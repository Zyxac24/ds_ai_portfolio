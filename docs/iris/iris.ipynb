{
 "cells": [
  {
   "cell_type": "markdown",
   "metadata": {
    "editable": true,
    "slideshow": {
     "slide_type": "slide"
    },
    "tags": []
   },
   "source": [
    "# Zadanie domowe - EDA Danych dotyczących Irysów\n",
    "\n",
    "* Twoim zadaniem jest wykonanie analizy danych zawartych w załączonym pliku CSV (`25__iris.csv`).\n",
    "* Plik znajduje się pod video. Pamiętaj, żeby wrzucić plik do tego samego folderu, w którym znajduje się ten notebook.\n",
    "* Wykorzystaj nowo nabytą wiedzę z biblioteki `Pandas`\n",
    "* Jeżeli jest taka konieczność posiłkuj się [code explainerem](https://codeexplainer.imprv.ai/) lub / i [data chatterem](https://datachatter.imprv.ai/) (który również te dane ma dostępne).\n",
    "* Prześlij na discordzie notebook z rozwiązaniem (`#modul-4-zad1`)\n",
    "* Pamiętaj:\n",
    "\n",
    "1. Nie spiesz się\n",
    "2. Potraktuj zadanie domowe jak prawdziwy projekt\n",
    "3. Dodawaj opisy, obserwacje, wnioski\n",
    "4. Dodaj wizualizacje\n",
    "5. Dodaj konkluzję i wnioski końcowe\n",
    "\n",
    "Powodzenia!!! I mega zabawy!"
   ]
  },
  {
   "cell_type": "markdown",
   "metadata": {
    "editable": true,
    "slideshow": {
     "slide_type": "slide"
    },
    "tags": []
   },
   "source": [
    "## O Danych\n",
    "\n",
    "Zbiór danych zawiera informacje o trzech gatunkach irysów: Iris setosa, Iris versicolor, i Iris virginica.\n",
    "\n",
    "Dane obejmują pomiary czterech cech: długość i szerokość działki kielicha oraz długość i szerokość płatka.\n",
    "\n",
    "Każdy wiersz w zbiorze danych reprezentuje pojedynczy kwiat, a wartości pomiarów są podane w centymetrach.\n",
    "\n",
    "Zbiór składa się z 150 próbek, po 50 dla każdego gatunku, i jest szeroko stosowany jako podstawowy zbiór danych do\n",
    "testowania algorytmów klasyfikacji oraz w nauce o danych i uczeniu maszynowym.\n",
    "\n",
    "Kolumny:\n",
    "* **długość kielicha (sepal length)** - Długość kielicha w cm\n",
    "* **szerokość kielicha (sepal width)** - Szerokość kielicha w cm\n",
    "* **długość płatka (petal length)** - Długość płatka w cm\n",
    "* **szerokość płatka (petal width)** - Szerokość płatka w cm\n",
    "* **klasa (class)** - Klasa irysa (setosa, versicolor, virginica)"
   ]
  },
  {
   "cell_type": "code",
   "execution_count": 260,
   "metadata": {
    "editable": true,
    "slideshow": {
     "slide_type": ""
    },
    "tags": []
   },
   "outputs": [],
   "source": [
    "import pandas as pd\n",
    "pd.set_option('display.max_rows', None)"
   ]
  },
  {
   "cell_type": "code",
   "execution_count": 261,
   "metadata": {
    "collapsed": true,
    "editable": true,
    "jupyter": {
     "outputs_hidden": true
    },
    "slideshow": {
     "slide_type": ""
    },
    "tags": []
   },
   "outputs": [
    {
     "data": {
      "text/html": [
       "<div>\n",
       "<style scoped>\n",
       "    .dataframe tbody tr th:only-of-type {\n",
       "        vertical-align: middle;\n",
       "    }\n",
       "\n",
       "    .dataframe tbody tr th {\n",
       "        vertical-align: top;\n",
       "    }\n",
       "\n",
       "    .dataframe thead th {\n",
       "        text-align: right;\n",
       "    }\n",
       "</style>\n",
       "<table border=\"1\" class=\"dataframe\">\n",
       "  <thead>\n",
       "    <tr style=\"text-align: right;\">\n",
       "      <th></th>\n",
       "      <th>długość kielicha (sepal length)</th>\n",
       "      <th>szerokość kielicha (sepal width)</th>\n",
       "      <th>długość płatka (petal length)</th>\n",
       "      <th>szerokość płatka (petal width)</th>\n",
       "      <th>klasa (class)</th>\n",
       "    </tr>\n",
       "  </thead>\n",
       "  <tbody>\n",
       "    <tr>\n",
       "      <th>0</th>\n",
       "      <td>5.1</td>\n",
       "      <td>3.5</td>\n",
       "      <td>1.4</td>\n",
       "      <td>0.2</td>\n",
       "      <td>Iris-setosa</td>\n",
       "    </tr>\n",
       "    <tr>\n",
       "      <th>1</th>\n",
       "      <td>4.9</td>\n",
       "      <td>3.0</td>\n",
       "      <td>1.4</td>\n",
       "      <td>0.2</td>\n",
       "      <td>Iris-setosa</td>\n",
       "    </tr>\n",
       "    <tr>\n",
       "      <th>2</th>\n",
       "      <td>4.7</td>\n",
       "      <td>3.2</td>\n",
       "      <td>1.3</td>\n",
       "      <td>0.2</td>\n",
       "      <td>Iris-setosa</td>\n",
       "    </tr>\n",
       "    <tr>\n",
       "      <th>3</th>\n",
       "      <td>4.6</td>\n",
       "      <td>3.1</td>\n",
       "      <td>1.5</td>\n",
       "      <td>0.2</td>\n",
       "      <td>Iris-setosa</td>\n",
       "    </tr>\n",
       "    <tr>\n",
       "      <th>4</th>\n",
       "      <td>5.0</td>\n",
       "      <td>3.6</td>\n",
       "      <td>1.4</td>\n",
       "      <td>0.2</td>\n",
       "      <td>Iris-setosa</td>\n",
       "    </tr>\n",
       "    <tr>\n",
       "      <th>5</th>\n",
       "      <td>5.4</td>\n",
       "      <td>3.9</td>\n",
       "      <td>1.7</td>\n",
       "      <td>0.4</td>\n",
       "      <td>Iris-setosa</td>\n",
       "    </tr>\n",
       "    <tr>\n",
       "      <th>6</th>\n",
       "      <td>4.6</td>\n",
       "      <td>3.4</td>\n",
       "      <td>1.4</td>\n",
       "      <td>0.3</td>\n",
       "      <td>Iris-setosa</td>\n",
       "    </tr>\n",
       "    <tr>\n",
       "      <th>7</th>\n",
       "      <td>5.0</td>\n",
       "      <td>3.4</td>\n",
       "      <td>1.5</td>\n",
       "      <td>0.2</td>\n",
       "      <td>Iris-setosa</td>\n",
       "    </tr>\n",
       "    <tr>\n",
       "      <th>8</th>\n",
       "      <td>4.4</td>\n",
       "      <td>2.9</td>\n",
       "      <td>1.4</td>\n",
       "      <td>0.2</td>\n",
       "      <td>Iris-setosa</td>\n",
       "    </tr>\n",
       "    <tr>\n",
       "      <th>9</th>\n",
       "      <td>4.9</td>\n",
       "      <td>3.1</td>\n",
       "      <td>1.5</td>\n",
       "      <td>0.1</td>\n",
       "      <td>Iris-setosa</td>\n",
       "    </tr>\n",
       "    <tr>\n",
       "      <th>10</th>\n",
       "      <td>5.4</td>\n",
       "      <td>3.7</td>\n",
       "      <td>1.5</td>\n",
       "      <td>0.2</td>\n",
       "      <td>Iris-setosa</td>\n",
       "    </tr>\n",
       "    <tr>\n",
       "      <th>11</th>\n",
       "      <td>4.8</td>\n",
       "      <td>3.4</td>\n",
       "      <td>1.6</td>\n",
       "      <td>0.2</td>\n",
       "      <td>Iris-setosa</td>\n",
       "    </tr>\n",
       "    <tr>\n",
       "      <th>12</th>\n",
       "      <td>4.8</td>\n",
       "      <td>3.0</td>\n",
       "      <td>1.4</td>\n",
       "      <td>0.1</td>\n",
       "      <td>Iris-setosa</td>\n",
       "    </tr>\n",
       "    <tr>\n",
       "      <th>13</th>\n",
       "      <td>4.3</td>\n",
       "      <td>3.0</td>\n",
       "      <td>1.1</td>\n",
       "      <td>0.1</td>\n",
       "      <td>Iris-setosa</td>\n",
       "    </tr>\n",
       "    <tr>\n",
       "      <th>14</th>\n",
       "      <td>5.8</td>\n",
       "      <td>4.0</td>\n",
       "      <td>1.2</td>\n",
       "      <td>0.2</td>\n",
       "      <td>Iris-setosa</td>\n",
       "    </tr>\n",
       "    <tr>\n",
       "      <th>15</th>\n",
       "      <td>5.7</td>\n",
       "      <td>4.4</td>\n",
       "      <td>1.5</td>\n",
       "      <td>0.4</td>\n",
       "      <td>Iris-setosa</td>\n",
       "    </tr>\n",
       "    <tr>\n",
       "      <th>16</th>\n",
       "      <td>5.4</td>\n",
       "      <td>3.9</td>\n",
       "      <td>1.3</td>\n",
       "      <td>0.4</td>\n",
       "      <td>Iris-setosa</td>\n",
       "    </tr>\n",
       "    <tr>\n",
       "      <th>17</th>\n",
       "      <td>5.1</td>\n",
       "      <td>3.5</td>\n",
       "      <td>1.4</td>\n",
       "      <td>0.3</td>\n",
       "      <td>Iris-setosa</td>\n",
       "    </tr>\n",
       "    <tr>\n",
       "      <th>18</th>\n",
       "      <td>5.7</td>\n",
       "      <td>3.8</td>\n",
       "      <td>1.7</td>\n",
       "      <td>0.3</td>\n",
       "      <td>Iris-setosa</td>\n",
       "    </tr>\n",
       "    <tr>\n",
       "      <th>19</th>\n",
       "      <td>5.1</td>\n",
       "      <td>3.8</td>\n",
       "      <td>1.5</td>\n",
       "      <td>0.3</td>\n",
       "      <td>Iris-setosa</td>\n",
       "    </tr>\n",
       "    <tr>\n",
       "      <th>20</th>\n",
       "      <td>5.4</td>\n",
       "      <td>3.4</td>\n",
       "      <td>1.7</td>\n",
       "      <td>0.2</td>\n",
       "      <td>Iris-setosa</td>\n",
       "    </tr>\n",
       "    <tr>\n",
       "      <th>21</th>\n",
       "      <td>5.1</td>\n",
       "      <td>3.7</td>\n",
       "      <td>1.5</td>\n",
       "      <td>0.4</td>\n",
       "      <td>Iris-setosa</td>\n",
       "    </tr>\n",
       "    <tr>\n",
       "      <th>22</th>\n",
       "      <td>4.6</td>\n",
       "      <td>3.6</td>\n",
       "      <td>1.0</td>\n",
       "      <td>0.2</td>\n",
       "      <td>Iris-setosa</td>\n",
       "    </tr>\n",
       "    <tr>\n",
       "      <th>23</th>\n",
       "      <td>5.1</td>\n",
       "      <td>3.3</td>\n",
       "      <td>1.7</td>\n",
       "      <td>0.5</td>\n",
       "      <td>Iris-setosa</td>\n",
       "    </tr>\n",
       "    <tr>\n",
       "      <th>24</th>\n",
       "      <td>4.8</td>\n",
       "      <td>3.4</td>\n",
       "      <td>1.9</td>\n",
       "      <td>0.2</td>\n",
       "      <td>Iris-setosa</td>\n",
       "    </tr>\n",
       "    <tr>\n",
       "      <th>25</th>\n",
       "      <td>5.0</td>\n",
       "      <td>3.0</td>\n",
       "      <td>1.6</td>\n",
       "      <td>0.2</td>\n",
       "      <td>Iris-setosa</td>\n",
       "    </tr>\n",
       "    <tr>\n",
       "      <th>26</th>\n",
       "      <td>5.0</td>\n",
       "      <td>3.4</td>\n",
       "      <td>1.6</td>\n",
       "      <td>0.4</td>\n",
       "      <td>Iris-setosa</td>\n",
       "    </tr>\n",
       "    <tr>\n",
       "      <th>27</th>\n",
       "      <td>5.2</td>\n",
       "      <td>3.5</td>\n",
       "      <td>1.5</td>\n",
       "      <td>0.2</td>\n",
       "      <td>Iris-setosa</td>\n",
       "    </tr>\n",
       "    <tr>\n",
       "      <th>28</th>\n",
       "      <td>5.2</td>\n",
       "      <td>3.4</td>\n",
       "      <td>1.4</td>\n",
       "      <td>0.2</td>\n",
       "      <td>Iris-setosa</td>\n",
       "    </tr>\n",
       "    <tr>\n",
       "      <th>29</th>\n",
       "      <td>4.7</td>\n",
       "      <td>3.2</td>\n",
       "      <td>1.6</td>\n",
       "      <td>0.2</td>\n",
       "      <td>Iris-setosa</td>\n",
       "    </tr>\n",
       "    <tr>\n",
       "      <th>30</th>\n",
       "      <td>4.8</td>\n",
       "      <td>3.1</td>\n",
       "      <td>1.6</td>\n",
       "      <td>0.2</td>\n",
       "      <td>Iris-setosa</td>\n",
       "    </tr>\n",
       "    <tr>\n",
       "      <th>31</th>\n",
       "      <td>5.4</td>\n",
       "      <td>3.4</td>\n",
       "      <td>1.5</td>\n",
       "      <td>0.4</td>\n",
       "      <td>Iris-setosa</td>\n",
       "    </tr>\n",
       "    <tr>\n",
       "      <th>32</th>\n",
       "      <td>5.2</td>\n",
       "      <td>4.1</td>\n",
       "      <td>1.5</td>\n",
       "      <td>0.1</td>\n",
       "      <td>Iris-setosa</td>\n",
       "    </tr>\n",
       "    <tr>\n",
       "      <th>33</th>\n",
       "      <td>5.5</td>\n",
       "      <td>4.2</td>\n",
       "      <td>1.4</td>\n",
       "      <td>0.2</td>\n",
       "      <td>Iris-setosa</td>\n",
       "    </tr>\n",
       "    <tr>\n",
       "      <th>34</th>\n",
       "      <td>4.9</td>\n",
       "      <td>3.1</td>\n",
       "      <td>1.5</td>\n",
       "      <td>0.1</td>\n",
       "      <td>Iris-setosa</td>\n",
       "    </tr>\n",
       "    <tr>\n",
       "      <th>35</th>\n",
       "      <td>5.0</td>\n",
       "      <td>3.2</td>\n",
       "      <td>1.2</td>\n",
       "      <td>0.2</td>\n",
       "      <td>Iris-setosa</td>\n",
       "    </tr>\n",
       "    <tr>\n",
       "      <th>36</th>\n",
       "      <td>5.5</td>\n",
       "      <td>3.5</td>\n",
       "      <td>1.3</td>\n",
       "      <td>0.2</td>\n",
       "      <td>Iris-setosa</td>\n",
       "    </tr>\n",
       "    <tr>\n",
       "      <th>37</th>\n",
       "      <td>4.9</td>\n",
       "      <td>3.1</td>\n",
       "      <td>1.5</td>\n",
       "      <td>0.1</td>\n",
       "      <td>Iris-setosa</td>\n",
       "    </tr>\n",
       "    <tr>\n",
       "      <th>38</th>\n",
       "      <td>4.4</td>\n",
       "      <td>3.0</td>\n",
       "      <td>1.3</td>\n",
       "      <td>0.2</td>\n",
       "      <td>Iris-setosa</td>\n",
       "    </tr>\n",
       "    <tr>\n",
       "      <th>39</th>\n",
       "      <td>5.1</td>\n",
       "      <td>3.4</td>\n",
       "      <td>1.5</td>\n",
       "      <td>0.2</td>\n",
       "      <td>Iris-setosa</td>\n",
       "    </tr>\n",
       "    <tr>\n",
       "      <th>40</th>\n",
       "      <td>5.0</td>\n",
       "      <td>3.5</td>\n",
       "      <td>1.3</td>\n",
       "      <td>0.3</td>\n",
       "      <td>Iris-setosa</td>\n",
       "    </tr>\n",
       "    <tr>\n",
       "      <th>41</th>\n",
       "      <td>4.5</td>\n",
       "      <td>2.3</td>\n",
       "      <td>1.3</td>\n",
       "      <td>0.3</td>\n",
       "      <td>Iris-setosa</td>\n",
       "    </tr>\n",
       "    <tr>\n",
       "      <th>42</th>\n",
       "      <td>4.4</td>\n",
       "      <td>3.2</td>\n",
       "      <td>1.3</td>\n",
       "      <td>0.2</td>\n",
       "      <td>Iris-setosa</td>\n",
       "    </tr>\n",
       "    <tr>\n",
       "      <th>43</th>\n",
       "      <td>5.0</td>\n",
       "      <td>3.5</td>\n",
       "      <td>1.6</td>\n",
       "      <td>0.6</td>\n",
       "      <td>Iris-setosa</td>\n",
       "    </tr>\n",
       "    <tr>\n",
       "      <th>44</th>\n",
       "      <td>5.1</td>\n",
       "      <td>3.8</td>\n",
       "      <td>1.9</td>\n",
       "      <td>0.4</td>\n",
       "      <td>Iris-setosa</td>\n",
       "    </tr>\n",
       "    <tr>\n",
       "      <th>45</th>\n",
       "      <td>4.8</td>\n",
       "      <td>3.0</td>\n",
       "      <td>1.4</td>\n",
       "      <td>0.3</td>\n",
       "      <td>Iris-setosa</td>\n",
       "    </tr>\n",
       "    <tr>\n",
       "      <th>46</th>\n",
       "      <td>5.1</td>\n",
       "      <td>3.8</td>\n",
       "      <td>1.6</td>\n",
       "      <td>0.2</td>\n",
       "      <td>Iris-setosa</td>\n",
       "    </tr>\n",
       "    <tr>\n",
       "      <th>47</th>\n",
       "      <td>4.6</td>\n",
       "      <td>3.2</td>\n",
       "      <td>1.4</td>\n",
       "      <td>0.2</td>\n",
       "      <td>Iris-setosa</td>\n",
       "    </tr>\n",
       "    <tr>\n",
       "      <th>48</th>\n",
       "      <td>5.3</td>\n",
       "      <td>3.7</td>\n",
       "      <td>1.5</td>\n",
       "      <td>0.2</td>\n",
       "      <td>Iris-setosa</td>\n",
       "    </tr>\n",
       "    <tr>\n",
       "      <th>49</th>\n",
       "      <td>5.0</td>\n",
       "      <td>3.3</td>\n",
       "      <td>1.4</td>\n",
       "      <td>0.2</td>\n",
       "      <td>Iris-setosa</td>\n",
       "    </tr>\n",
       "    <tr>\n",
       "      <th>50</th>\n",
       "      <td>7.0</td>\n",
       "      <td>3.2</td>\n",
       "      <td>4.7</td>\n",
       "      <td>1.4</td>\n",
       "      <td>Iris-versicolor</td>\n",
       "    </tr>\n",
       "    <tr>\n",
       "      <th>51</th>\n",
       "      <td>6.4</td>\n",
       "      <td>3.2</td>\n",
       "      <td>4.5</td>\n",
       "      <td>1.5</td>\n",
       "      <td>Iris-versicolor</td>\n",
       "    </tr>\n",
       "    <tr>\n",
       "      <th>52</th>\n",
       "      <td>6.9</td>\n",
       "      <td>3.1</td>\n",
       "      <td>4.9</td>\n",
       "      <td>1.5</td>\n",
       "      <td>Iris-versicolor</td>\n",
       "    </tr>\n",
       "    <tr>\n",
       "      <th>53</th>\n",
       "      <td>5.5</td>\n",
       "      <td>2.3</td>\n",
       "      <td>4.0</td>\n",
       "      <td>1.3</td>\n",
       "      <td>Iris-versicolor</td>\n",
       "    </tr>\n",
       "    <tr>\n",
       "      <th>54</th>\n",
       "      <td>6.5</td>\n",
       "      <td>2.8</td>\n",
       "      <td>4.6</td>\n",
       "      <td>1.5</td>\n",
       "      <td>Iris-versicolor</td>\n",
       "    </tr>\n",
       "    <tr>\n",
       "      <th>55</th>\n",
       "      <td>5.7</td>\n",
       "      <td>2.8</td>\n",
       "      <td>4.5</td>\n",
       "      <td>1.3</td>\n",
       "      <td>Iris-versicolor</td>\n",
       "    </tr>\n",
       "    <tr>\n",
       "      <th>56</th>\n",
       "      <td>6.3</td>\n",
       "      <td>3.3</td>\n",
       "      <td>4.7</td>\n",
       "      <td>1.6</td>\n",
       "      <td>Iris-versicolor</td>\n",
       "    </tr>\n",
       "    <tr>\n",
       "      <th>57</th>\n",
       "      <td>4.9</td>\n",
       "      <td>2.4</td>\n",
       "      <td>3.3</td>\n",
       "      <td>1.0</td>\n",
       "      <td>Iris-versicolor</td>\n",
       "    </tr>\n",
       "    <tr>\n",
       "      <th>58</th>\n",
       "      <td>6.6</td>\n",
       "      <td>2.9</td>\n",
       "      <td>4.6</td>\n",
       "      <td>1.3</td>\n",
       "      <td>Iris-versicolor</td>\n",
       "    </tr>\n",
       "    <tr>\n",
       "      <th>59</th>\n",
       "      <td>5.2</td>\n",
       "      <td>2.7</td>\n",
       "      <td>3.9</td>\n",
       "      <td>1.4</td>\n",
       "      <td>Iris-versicolor</td>\n",
       "    </tr>\n",
       "    <tr>\n",
       "      <th>60</th>\n",
       "      <td>5.0</td>\n",
       "      <td>2.0</td>\n",
       "      <td>3.5</td>\n",
       "      <td>1.0</td>\n",
       "      <td>Iris-versicolor</td>\n",
       "    </tr>\n",
       "    <tr>\n",
       "      <th>61</th>\n",
       "      <td>5.9</td>\n",
       "      <td>3.0</td>\n",
       "      <td>4.2</td>\n",
       "      <td>1.5</td>\n",
       "      <td>Iris-versicolor</td>\n",
       "    </tr>\n",
       "    <tr>\n",
       "      <th>62</th>\n",
       "      <td>6.0</td>\n",
       "      <td>2.2</td>\n",
       "      <td>4.0</td>\n",
       "      <td>1.0</td>\n",
       "      <td>Iris-versicolor</td>\n",
       "    </tr>\n",
       "    <tr>\n",
       "      <th>63</th>\n",
       "      <td>6.1</td>\n",
       "      <td>2.9</td>\n",
       "      <td>4.7</td>\n",
       "      <td>1.4</td>\n",
       "      <td>Iris-versicolor</td>\n",
       "    </tr>\n",
       "    <tr>\n",
       "      <th>64</th>\n",
       "      <td>5.6</td>\n",
       "      <td>2.9</td>\n",
       "      <td>3.6</td>\n",
       "      <td>1.3</td>\n",
       "      <td>Iris-versicolor</td>\n",
       "    </tr>\n",
       "    <tr>\n",
       "      <th>65</th>\n",
       "      <td>6.7</td>\n",
       "      <td>3.1</td>\n",
       "      <td>4.4</td>\n",
       "      <td>1.4</td>\n",
       "      <td>Iris-versicolor</td>\n",
       "    </tr>\n",
       "    <tr>\n",
       "      <th>66</th>\n",
       "      <td>5.6</td>\n",
       "      <td>3.0</td>\n",
       "      <td>4.5</td>\n",
       "      <td>1.5</td>\n",
       "      <td>Iris-versicolor</td>\n",
       "    </tr>\n",
       "    <tr>\n",
       "      <th>67</th>\n",
       "      <td>5.8</td>\n",
       "      <td>2.7</td>\n",
       "      <td>4.1</td>\n",
       "      <td>1.0</td>\n",
       "      <td>Iris-versicolor</td>\n",
       "    </tr>\n",
       "    <tr>\n",
       "      <th>68</th>\n",
       "      <td>6.2</td>\n",
       "      <td>2.2</td>\n",
       "      <td>4.5</td>\n",
       "      <td>1.5</td>\n",
       "      <td>Iris-versicolor</td>\n",
       "    </tr>\n",
       "    <tr>\n",
       "      <th>69</th>\n",
       "      <td>5.6</td>\n",
       "      <td>2.5</td>\n",
       "      <td>3.9</td>\n",
       "      <td>1.1</td>\n",
       "      <td>Iris-versicolor</td>\n",
       "    </tr>\n",
       "    <tr>\n",
       "      <th>70</th>\n",
       "      <td>5.9</td>\n",
       "      <td>3.2</td>\n",
       "      <td>4.8</td>\n",
       "      <td>1.8</td>\n",
       "      <td>Iris-versicolor</td>\n",
       "    </tr>\n",
       "    <tr>\n",
       "      <th>71</th>\n",
       "      <td>6.1</td>\n",
       "      <td>2.8</td>\n",
       "      <td>4.0</td>\n",
       "      <td>1.3</td>\n",
       "      <td>Iris-versicolor</td>\n",
       "    </tr>\n",
       "    <tr>\n",
       "      <th>72</th>\n",
       "      <td>6.3</td>\n",
       "      <td>2.5</td>\n",
       "      <td>4.9</td>\n",
       "      <td>1.5</td>\n",
       "      <td>Iris-versicolor</td>\n",
       "    </tr>\n",
       "    <tr>\n",
       "      <th>73</th>\n",
       "      <td>6.1</td>\n",
       "      <td>2.8</td>\n",
       "      <td>4.7</td>\n",
       "      <td>1.2</td>\n",
       "      <td>Iris-versicolor</td>\n",
       "    </tr>\n",
       "    <tr>\n",
       "      <th>74</th>\n",
       "      <td>6.4</td>\n",
       "      <td>2.9</td>\n",
       "      <td>4.3</td>\n",
       "      <td>1.3</td>\n",
       "      <td>Iris-versicolor</td>\n",
       "    </tr>\n",
       "    <tr>\n",
       "      <th>75</th>\n",
       "      <td>6.6</td>\n",
       "      <td>3.0</td>\n",
       "      <td>4.4</td>\n",
       "      <td>1.4</td>\n",
       "      <td>Iris-versicolor</td>\n",
       "    </tr>\n",
       "    <tr>\n",
       "      <th>76</th>\n",
       "      <td>6.8</td>\n",
       "      <td>2.8</td>\n",
       "      <td>4.8</td>\n",
       "      <td>1.4</td>\n",
       "      <td>Iris-versicolor</td>\n",
       "    </tr>\n",
       "    <tr>\n",
       "      <th>77</th>\n",
       "      <td>6.7</td>\n",
       "      <td>3.0</td>\n",
       "      <td>5.0</td>\n",
       "      <td>1.7</td>\n",
       "      <td>Iris-versicolor</td>\n",
       "    </tr>\n",
       "    <tr>\n",
       "      <th>78</th>\n",
       "      <td>6.0</td>\n",
       "      <td>2.9</td>\n",
       "      <td>4.5</td>\n",
       "      <td>1.5</td>\n",
       "      <td>Iris-versicolor</td>\n",
       "    </tr>\n",
       "    <tr>\n",
       "      <th>79</th>\n",
       "      <td>5.7</td>\n",
       "      <td>2.6</td>\n",
       "      <td>3.5</td>\n",
       "      <td>1.0</td>\n",
       "      <td>Iris-versicolor</td>\n",
       "    </tr>\n",
       "    <tr>\n",
       "      <th>80</th>\n",
       "      <td>5.5</td>\n",
       "      <td>2.4</td>\n",
       "      <td>3.8</td>\n",
       "      <td>1.1</td>\n",
       "      <td>Iris-versicolor</td>\n",
       "    </tr>\n",
       "    <tr>\n",
       "      <th>81</th>\n",
       "      <td>5.5</td>\n",
       "      <td>2.4</td>\n",
       "      <td>3.7</td>\n",
       "      <td>1.0</td>\n",
       "      <td>Iris-versicolor</td>\n",
       "    </tr>\n",
       "    <tr>\n",
       "      <th>82</th>\n",
       "      <td>5.8</td>\n",
       "      <td>2.7</td>\n",
       "      <td>3.9</td>\n",
       "      <td>1.2</td>\n",
       "      <td>Iris-versicolor</td>\n",
       "    </tr>\n",
       "    <tr>\n",
       "      <th>83</th>\n",
       "      <td>6.0</td>\n",
       "      <td>2.7</td>\n",
       "      <td>5.1</td>\n",
       "      <td>1.6</td>\n",
       "      <td>Iris-versicolor</td>\n",
       "    </tr>\n",
       "    <tr>\n",
       "      <th>84</th>\n",
       "      <td>5.4</td>\n",
       "      <td>3.0</td>\n",
       "      <td>4.5</td>\n",
       "      <td>1.5</td>\n",
       "      <td>Iris-versicolor</td>\n",
       "    </tr>\n",
       "    <tr>\n",
       "      <th>85</th>\n",
       "      <td>6.0</td>\n",
       "      <td>3.4</td>\n",
       "      <td>4.5</td>\n",
       "      <td>1.6</td>\n",
       "      <td>Iris-versicolor</td>\n",
       "    </tr>\n",
       "    <tr>\n",
       "      <th>86</th>\n",
       "      <td>6.7</td>\n",
       "      <td>3.1</td>\n",
       "      <td>4.7</td>\n",
       "      <td>1.5</td>\n",
       "      <td>Iris-versicolor</td>\n",
       "    </tr>\n",
       "    <tr>\n",
       "      <th>87</th>\n",
       "      <td>6.3</td>\n",
       "      <td>2.3</td>\n",
       "      <td>4.4</td>\n",
       "      <td>1.3</td>\n",
       "      <td>Iris-versicolor</td>\n",
       "    </tr>\n",
       "    <tr>\n",
       "      <th>88</th>\n",
       "      <td>5.6</td>\n",
       "      <td>3.0</td>\n",
       "      <td>4.1</td>\n",
       "      <td>1.3</td>\n",
       "      <td>Iris-versicolor</td>\n",
       "    </tr>\n",
       "    <tr>\n",
       "      <th>89</th>\n",
       "      <td>5.5</td>\n",
       "      <td>2.5</td>\n",
       "      <td>4.0</td>\n",
       "      <td>1.3</td>\n",
       "      <td>Iris-versicolor</td>\n",
       "    </tr>\n",
       "    <tr>\n",
       "      <th>90</th>\n",
       "      <td>5.5</td>\n",
       "      <td>2.6</td>\n",
       "      <td>4.4</td>\n",
       "      <td>1.2</td>\n",
       "      <td>Iris-versicolor</td>\n",
       "    </tr>\n",
       "    <tr>\n",
       "      <th>91</th>\n",
       "      <td>6.1</td>\n",
       "      <td>3.0</td>\n",
       "      <td>4.6</td>\n",
       "      <td>1.4</td>\n",
       "      <td>Iris-versicolor</td>\n",
       "    </tr>\n",
       "    <tr>\n",
       "      <th>92</th>\n",
       "      <td>5.8</td>\n",
       "      <td>2.6</td>\n",
       "      <td>4.0</td>\n",
       "      <td>1.2</td>\n",
       "      <td>Iris-versicolor</td>\n",
       "    </tr>\n",
       "    <tr>\n",
       "      <th>93</th>\n",
       "      <td>5.0</td>\n",
       "      <td>2.3</td>\n",
       "      <td>3.3</td>\n",
       "      <td>1.0</td>\n",
       "      <td>Iris-versicolor</td>\n",
       "    </tr>\n",
       "    <tr>\n",
       "      <th>94</th>\n",
       "      <td>5.6</td>\n",
       "      <td>2.7</td>\n",
       "      <td>4.2</td>\n",
       "      <td>1.3</td>\n",
       "      <td>Iris-versicolor</td>\n",
       "    </tr>\n",
       "    <tr>\n",
       "      <th>95</th>\n",
       "      <td>5.7</td>\n",
       "      <td>3.0</td>\n",
       "      <td>4.2</td>\n",
       "      <td>1.2</td>\n",
       "      <td>Iris-versicolor</td>\n",
       "    </tr>\n",
       "    <tr>\n",
       "      <th>96</th>\n",
       "      <td>5.7</td>\n",
       "      <td>2.9</td>\n",
       "      <td>4.2</td>\n",
       "      <td>1.3</td>\n",
       "      <td>Iris-versicolor</td>\n",
       "    </tr>\n",
       "    <tr>\n",
       "      <th>97</th>\n",
       "      <td>6.2</td>\n",
       "      <td>2.9</td>\n",
       "      <td>4.3</td>\n",
       "      <td>1.3</td>\n",
       "      <td>Iris-versicolor</td>\n",
       "    </tr>\n",
       "    <tr>\n",
       "      <th>98</th>\n",
       "      <td>5.1</td>\n",
       "      <td>2.5</td>\n",
       "      <td>3.0</td>\n",
       "      <td>1.1</td>\n",
       "      <td>Iris-versicolor</td>\n",
       "    </tr>\n",
       "    <tr>\n",
       "      <th>99</th>\n",
       "      <td>5.7</td>\n",
       "      <td>2.8</td>\n",
       "      <td>4.1</td>\n",
       "      <td>1.3</td>\n",
       "      <td>Iris-versicolor</td>\n",
       "    </tr>\n",
       "    <tr>\n",
       "      <th>100</th>\n",
       "      <td>6.3</td>\n",
       "      <td>3.3</td>\n",
       "      <td>6.0</td>\n",
       "      <td>2.5</td>\n",
       "      <td>Iris-virginica</td>\n",
       "    </tr>\n",
       "    <tr>\n",
       "      <th>101</th>\n",
       "      <td>5.8</td>\n",
       "      <td>2.7</td>\n",
       "      <td>5.1</td>\n",
       "      <td>1.9</td>\n",
       "      <td>Iris-virginica</td>\n",
       "    </tr>\n",
       "    <tr>\n",
       "      <th>102</th>\n",
       "      <td>7.1</td>\n",
       "      <td>3.0</td>\n",
       "      <td>5.9</td>\n",
       "      <td>2.1</td>\n",
       "      <td>Iris-virginica</td>\n",
       "    </tr>\n",
       "    <tr>\n",
       "      <th>103</th>\n",
       "      <td>6.3</td>\n",
       "      <td>2.9</td>\n",
       "      <td>5.6</td>\n",
       "      <td>1.8</td>\n",
       "      <td>Iris-virginica</td>\n",
       "    </tr>\n",
       "    <tr>\n",
       "      <th>104</th>\n",
       "      <td>6.5</td>\n",
       "      <td>3.0</td>\n",
       "      <td>5.8</td>\n",
       "      <td>2.2</td>\n",
       "      <td>Iris-virginica</td>\n",
       "    </tr>\n",
       "    <tr>\n",
       "      <th>105</th>\n",
       "      <td>7.6</td>\n",
       "      <td>3.0</td>\n",
       "      <td>6.6</td>\n",
       "      <td>2.1</td>\n",
       "      <td>Iris-virginica</td>\n",
       "    </tr>\n",
       "    <tr>\n",
       "      <th>106</th>\n",
       "      <td>4.9</td>\n",
       "      <td>2.5</td>\n",
       "      <td>4.5</td>\n",
       "      <td>1.7</td>\n",
       "      <td>Iris-virginica</td>\n",
       "    </tr>\n",
       "    <tr>\n",
       "      <th>107</th>\n",
       "      <td>7.3</td>\n",
       "      <td>2.9</td>\n",
       "      <td>6.3</td>\n",
       "      <td>1.8</td>\n",
       "      <td>Iris-virginica</td>\n",
       "    </tr>\n",
       "    <tr>\n",
       "      <th>108</th>\n",
       "      <td>6.7</td>\n",
       "      <td>2.5</td>\n",
       "      <td>5.8</td>\n",
       "      <td>1.8</td>\n",
       "      <td>Iris-virginica</td>\n",
       "    </tr>\n",
       "    <tr>\n",
       "      <th>109</th>\n",
       "      <td>7.2</td>\n",
       "      <td>3.6</td>\n",
       "      <td>6.1</td>\n",
       "      <td>2.5</td>\n",
       "      <td>Iris-virginica</td>\n",
       "    </tr>\n",
       "    <tr>\n",
       "      <th>110</th>\n",
       "      <td>6.5</td>\n",
       "      <td>3.2</td>\n",
       "      <td>5.1</td>\n",
       "      <td>2.0</td>\n",
       "      <td>Iris-virginica</td>\n",
       "    </tr>\n",
       "    <tr>\n",
       "      <th>111</th>\n",
       "      <td>6.4</td>\n",
       "      <td>2.7</td>\n",
       "      <td>5.3</td>\n",
       "      <td>1.9</td>\n",
       "      <td>Iris-virginica</td>\n",
       "    </tr>\n",
       "    <tr>\n",
       "      <th>112</th>\n",
       "      <td>6.8</td>\n",
       "      <td>3.0</td>\n",
       "      <td>5.5</td>\n",
       "      <td>2.1</td>\n",
       "      <td>Iris-virginica</td>\n",
       "    </tr>\n",
       "    <tr>\n",
       "      <th>113</th>\n",
       "      <td>5.7</td>\n",
       "      <td>2.5</td>\n",
       "      <td>5.0</td>\n",
       "      <td>2.0</td>\n",
       "      <td>Iris-virginica</td>\n",
       "    </tr>\n",
       "    <tr>\n",
       "      <th>114</th>\n",
       "      <td>5.8</td>\n",
       "      <td>2.8</td>\n",
       "      <td>5.1</td>\n",
       "      <td>2.4</td>\n",
       "      <td>Iris-virginica</td>\n",
       "    </tr>\n",
       "    <tr>\n",
       "      <th>115</th>\n",
       "      <td>6.4</td>\n",
       "      <td>3.2</td>\n",
       "      <td>5.3</td>\n",
       "      <td>2.3</td>\n",
       "      <td>Iris-virginica</td>\n",
       "    </tr>\n",
       "    <tr>\n",
       "      <th>116</th>\n",
       "      <td>6.5</td>\n",
       "      <td>3.0</td>\n",
       "      <td>5.5</td>\n",
       "      <td>1.8</td>\n",
       "      <td>Iris-virginica</td>\n",
       "    </tr>\n",
       "    <tr>\n",
       "      <th>117</th>\n",
       "      <td>7.7</td>\n",
       "      <td>3.8</td>\n",
       "      <td>6.7</td>\n",
       "      <td>2.2</td>\n",
       "      <td>Iris-virginica</td>\n",
       "    </tr>\n",
       "    <tr>\n",
       "      <th>118</th>\n",
       "      <td>7.7</td>\n",
       "      <td>2.6</td>\n",
       "      <td>6.9</td>\n",
       "      <td>2.3</td>\n",
       "      <td>Iris-virginica</td>\n",
       "    </tr>\n",
       "    <tr>\n",
       "      <th>119</th>\n",
       "      <td>6.0</td>\n",
       "      <td>2.2</td>\n",
       "      <td>5.0</td>\n",
       "      <td>1.5</td>\n",
       "      <td>Iris-virginica</td>\n",
       "    </tr>\n",
       "    <tr>\n",
       "      <th>120</th>\n",
       "      <td>6.9</td>\n",
       "      <td>3.2</td>\n",
       "      <td>5.7</td>\n",
       "      <td>2.3</td>\n",
       "      <td>Iris-virginica</td>\n",
       "    </tr>\n",
       "    <tr>\n",
       "      <th>121</th>\n",
       "      <td>5.6</td>\n",
       "      <td>2.8</td>\n",
       "      <td>4.9</td>\n",
       "      <td>2.0</td>\n",
       "      <td>Iris-virginica</td>\n",
       "    </tr>\n",
       "    <tr>\n",
       "      <th>122</th>\n",
       "      <td>7.7</td>\n",
       "      <td>2.8</td>\n",
       "      <td>6.7</td>\n",
       "      <td>2.0</td>\n",
       "      <td>Iris-virginica</td>\n",
       "    </tr>\n",
       "    <tr>\n",
       "      <th>123</th>\n",
       "      <td>6.3</td>\n",
       "      <td>2.7</td>\n",
       "      <td>4.9</td>\n",
       "      <td>1.8</td>\n",
       "      <td>Iris-virginica</td>\n",
       "    </tr>\n",
       "    <tr>\n",
       "      <th>124</th>\n",
       "      <td>6.7</td>\n",
       "      <td>3.3</td>\n",
       "      <td>5.7</td>\n",
       "      <td>2.1</td>\n",
       "      <td>Iris-virginica</td>\n",
       "    </tr>\n",
       "    <tr>\n",
       "      <th>125</th>\n",
       "      <td>7.2</td>\n",
       "      <td>3.2</td>\n",
       "      <td>6.0</td>\n",
       "      <td>1.8</td>\n",
       "      <td>Iris-virginica</td>\n",
       "    </tr>\n",
       "    <tr>\n",
       "      <th>126</th>\n",
       "      <td>6.2</td>\n",
       "      <td>2.8</td>\n",
       "      <td>4.8</td>\n",
       "      <td>1.8</td>\n",
       "      <td>Iris-virginica</td>\n",
       "    </tr>\n",
       "    <tr>\n",
       "      <th>127</th>\n",
       "      <td>6.1</td>\n",
       "      <td>3.0</td>\n",
       "      <td>4.9</td>\n",
       "      <td>1.8</td>\n",
       "      <td>Iris-virginica</td>\n",
       "    </tr>\n",
       "    <tr>\n",
       "      <th>128</th>\n",
       "      <td>6.4</td>\n",
       "      <td>2.8</td>\n",
       "      <td>5.6</td>\n",
       "      <td>2.1</td>\n",
       "      <td>Iris-virginica</td>\n",
       "    </tr>\n",
       "    <tr>\n",
       "      <th>129</th>\n",
       "      <td>7.2</td>\n",
       "      <td>3.0</td>\n",
       "      <td>5.8</td>\n",
       "      <td>1.6</td>\n",
       "      <td>Iris-virginica</td>\n",
       "    </tr>\n",
       "    <tr>\n",
       "      <th>130</th>\n",
       "      <td>7.4</td>\n",
       "      <td>2.8</td>\n",
       "      <td>6.1</td>\n",
       "      <td>1.9</td>\n",
       "      <td>Iris-virginica</td>\n",
       "    </tr>\n",
       "    <tr>\n",
       "      <th>131</th>\n",
       "      <td>7.9</td>\n",
       "      <td>3.8</td>\n",
       "      <td>6.4</td>\n",
       "      <td>2.0</td>\n",
       "      <td>Iris-virginica</td>\n",
       "    </tr>\n",
       "    <tr>\n",
       "      <th>132</th>\n",
       "      <td>6.4</td>\n",
       "      <td>2.8</td>\n",
       "      <td>5.6</td>\n",
       "      <td>2.2</td>\n",
       "      <td>Iris-virginica</td>\n",
       "    </tr>\n",
       "    <tr>\n",
       "      <th>133</th>\n",
       "      <td>6.3</td>\n",
       "      <td>2.8</td>\n",
       "      <td>5.1</td>\n",
       "      <td>1.5</td>\n",
       "      <td>Iris-virginica</td>\n",
       "    </tr>\n",
       "    <tr>\n",
       "      <th>134</th>\n",
       "      <td>6.1</td>\n",
       "      <td>2.6</td>\n",
       "      <td>5.6</td>\n",
       "      <td>1.4</td>\n",
       "      <td>Iris-virginica</td>\n",
       "    </tr>\n",
       "    <tr>\n",
       "      <th>135</th>\n",
       "      <td>7.7</td>\n",
       "      <td>3.0</td>\n",
       "      <td>6.1</td>\n",
       "      <td>2.3</td>\n",
       "      <td>Iris-virginica</td>\n",
       "    </tr>\n",
       "    <tr>\n",
       "      <th>136</th>\n",
       "      <td>6.3</td>\n",
       "      <td>3.4</td>\n",
       "      <td>5.6</td>\n",
       "      <td>2.4</td>\n",
       "      <td>Iris-virginica</td>\n",
       "    </tr>\n",
       "    <tr>\n",
       "      <th>137</th>\n",
       "      <td>6.4</td>\n",
       "      <td>3.1</td>\n",
       "      <td>5.5</td>\n",
       "      <td>1.8</td>\n",
       "      <td>Iris-virginica</td>\n",
       "    </tr>\n",
       "    <tr>\n",
       "      <th>138</th>\n",
       "      <td>6.0</td>\n",
       "      <td>3.0</td>\n",
       "      <td>4.8</td>\n",
       "      <td>1.8</td>\n",
       "      <td>Iris-virginica</td>\n",
       "    </tr>\n",
       "    <tr>\n",
       "      <th>139</th>\n",
       "      <td>6.9</td>\n",
       "      <td>3.1</td>\n",
       "      <td>5.4</td>\n",
       "      <td>2.1</td>\n",
       "      <td>Iris-virginica</td>\n",
       "    </tr>\n",
       "    <tr>\n",
       "      <th>140</th>\n",
       "      <td>6.7</td>\n",
       "      <td>3.1</td>\n",
       "      <td>5.6</td>\n",
       "      <td>2.4</td>\n",
       "      <td>Iris-virginica</td>\n",
       "    </tr>\n",
       "    <tr>\n",
       "      <th>141</th>\n",
       "      <td>6.9</td>\n",
       "      <td>3.1</td>\n",
       "      <td>5.1</td>\n",
       "      <td>2.3</td>\n",
       "      <td>Iris-virginica</td>\n",
       "    </tr>\n",
       "    <tr>\n",
       "      <th>142</th>\n",
       "      <td>5.8</td>\n",
       "      <td>2.7</td>\n",
       "      <td>5.1</td>\n",
       "      <td>1.9</td>\n",
       "      <td>Iris-virginica</td>\n",
       "    </tr>\n",
       "    <tr>\n",
       "      <th>143</th>\n",
       "      <td>6.8</td>\n",
       "      <td>3.2</td>\n",
       "      <td>5.9</td>\n",
       "      <td>2.3</td>\n",
       "      <td>Iris-virginica</td>\n",
       "    </tr>\n",
       "    <tr>\n",
       "      <th>144</th>\n",
       "      <td>6.7</td>\n",
       "      <td>3.3</td>\n",
       "      <td>5.7</td>\n",
       "      <td>2.5</td>\n",
       "      <td>Iris-virginica</td>\n",
       "    </tr>\n",
       "    <tr>\n",
       "      <th>145</th>\n",
       "      <td>6.7</td>\n",
       "      <td>3.0</td>\n",
       "      <td>5.2</td>\n",
       "      <td>2.3</td>\n",
       "      <td>Iris-virginica</td>\n",
       "    </tr>\n",
       "    <tr>\n",
       "      <th>146</th>\n",
       "      <td>6.3</td>\n",
       "      <td>2.5</td>\n",
       "      <td>5.0</td>\n",
       "      <td>1.9</td>\n",
       "      <td>Iris-virginica</td>\n",
       "    </tr>\n",
       "    <tr>\n",
       "      <th>147</th>\n",
       "      <td>6.5</td>\n",
       "      <td>3.0</td>\n",
       "      <td>5.2</td>\n",
       "      <td>2.0</td>\n",
       "      <td>Iris-virginica</td>\n",
       "    </tr>\n",
       "    <tr>\n",
       "      <th>148</th>\n",
       "      <td>6.2</td>\n",
       "      <td>3.4</td>\n",
       "      <td>5.4</td>\n",
       "      <td>2.3</td>\n",
       "      <td>Iris-virginica</td>\n",
       "    </tr>\n",
       "    <tr>\n",
       "      <th>149</th>\n",
       "      <td>5.9</td>\n",
       "      <td>3.0</td>\n",
       "      <td>5.1</td>\n",
       "      <td>1.8</td>\n",
       "      <td>Iris-virginica</td>\n",
       "    </tr>\n",
       "  </tbody>\n",
       "</table>\n",
       "</div>"
      ],
      "text/plain": [
       "     długość kielicha (sepal length)  szerokość kielicha (sepal width)  \\\n",
       "0                                5.1                               3.5   \n",
       "1                                4.9                               3.0   \n",
       "2                                4.7                               3.2   \n",
       "3                                4.6                               3.1   \n",
       "4                                5.0                               3.6   \n",
       "5                                5.4                               3.9   \n",
       "6                                4.6                               3.4   \n",
       "7                                5.0                               3.4   \n",
       "8                                4.4                               2.9   \n",
       "9                                4.9                               3.1   \n",
       "10                               5.4                               3.7   \n",
       "11                               4.8                               3.4   \n",
       "12                               4.8                               3.0   \n",
       "13                               4.3                               3.0   \n",
       "14                               5.8                               4.0   \n",
       "15                               5.7                               4.4   \n",
       "16                               5.4                               3.9   \n",
       "17                               5.1                               3.5   \n",
       "18                               5.7                               3.8   \n",
       "19                               5.1                               3.8   \n",
       "20                               5.4                               3.4   \n",
       "21                               5.1                               3.7   \n",
       "22                               4.6                               3.6   \n",
       "23                               5.1                               3.3   \n",
       "24                               4.8                               3.4   \n",
       "25                               5.0                               3.0   \n",
       "26                               5.0                               3.4   \n",
       "27                               5.2                               3.5   \n",
       "28                               5.2                               3.4   \n",
       "29                               4.7                               3.2   \n",
       "30                               4.8                               3.1   \n",
       "31                               5.4                               3.4   \n",
       "32                               5.2                               4.1   \n",
       "33                               5.5                               4.2   \n",
       "34                               4.9                               3.1   \n",
       "35                               5.0                               3.2   \n",
       "36                               5.5                               3.5   \n",
       "37                               4.9                               3.1   \n",
       "38                               4.4                               3.0   \n",
       "39                               5.1                               3.4   \n",
       "40                               5.0                               3.5   \n",
       "41                               4.5                               2.3   \n",
       "42                               4.4                               3.2   \n",
       "43                               5.0                               3.5   \n",
       "44                               5.1                               3.8   \n",
       "45                               4.8                               3.0   \n",
       "46                               5.1                               3.8   \n",
       "47                               4.6                               3.2   \n",
       "48                               5.3                               3.7   \n",
       "49                               5.0                               3.3   \n",
       "50                               7.0                               3.2   \n",
       "51                               6.4                               3.2   \n",
       "52                               6.9                               3.1   \n",
       "53                               5.5                               2.3   \n",
       "54                               6.5                               2.8   \n",
       "55                               5.7                               2.8   \n",
       "56                               6.3                               3.3   \n",
       "57                               4.9                               2.4   \n",
       "58                               6.6                               2.9   \n",
       "59                               5.2                               2.7   \n",
       "60                               5.0                               2.0   \n",
       "61                               5.9                               3.0   \n",
       "62                               6.0                               2.2   \n",
       "63                               6.1                               2.9   \n",
       "64                               5.6                               2.9   \n",
       "65                               6.7                               3.1   \n",
       "66                               5.6                               3.0   \n",
       "67                               5.8                               2.7   \n",
       "68                               6.2                               2.2   \n",
       "69                               5.6                               2.5   \n",
       "70                               5.9                               3.2   \n",
       "71                               6.1                               2.8   \n",
       "72                               6.3                               2.5   \n",
       "73                               6.1                               2.8   \n",
       "74                               6.4                               2.9   \n",
       "75                               6.6                               3.0   \n",
       "76                               6.8                               2.8   \n",
       "77                               6.7                               3.0   \n",
       "78                               6.0                               2.9   \n",
       "79                               5.7                               2.6   \n",
       "80                               5.5                               2.4   \n",
       "81                               5.5                               2.4   \n",
       "82                               5.8                               2.7   \n",
       "83                               6.0                               2.7   \n",
       "84                               5.4                               3.0   \n",
       "85                               6.0                               3.4   \n",
       "86                               6.7                               3.1   \n",
       "87                               6.3                               2.3   \n",
       "88                               5.6                               3.0   \n",
       "89                               5.5                               2.5   \n",
       "90                               5.5                               2.6   \n",
       "91                               6.1                               3.0   \n",
       "92                               5.8                               2.6   \n",
       "93                               5.0                               2.3   \n",
       "94                               5.6                               2.7   \n",
       "95                               5.7                               3.0   \n",
       "96                               5.7                               2.9   \n",
       "97                               6.2                               2.9   \n",
       "98                               5.1                               2.5   \n",
       "99                               5.7                               2.8   \n",
       "100                              6.3                               3.3   \n",
       "101                              5.8                               2.7   \n",
       "102                              7.1                               3.0   \n",
       "103                              6.3                               2.9   \n",
       "104                              6.5                               3.0   \n",
       "105                              7.6                               3.0   \n",
       "106                              4.9                               2.5   \n",
       "107                              7.3                               2.9   \n",
       "108                              6.7                               2.5   \n",
       "109                              7.2                               3.6   \n",
       "110                              6.5                               3.2   \n",
       "111                              6.4                               2.7   \n",
       "112                              6.8                               3.0   \n",
       "113                              5.7                               2.5   \n",
       "114                              5.8                               2.8   \n",
       "115                              6.4                               3.2   \n",
       "116                              6.5                               3.0   \n",
       "117                              7.7                               3.8   \n",
       "118                              7.7                               2.6   \n",
       "119                              6.0                               2.2   \n",
       "120                              6.9                               3.2   \n",
       "121                              5.6                               2.8   \n",
       "122                              7.7                               2.8   \n",
       "123                              6.3                               2.7   \n",
       "124                              6.7                               3.3   \n",
       "125                              7.2                               3.2   \n",
       "126                              6.2                               2.8   \n",
       "127                              6.1                               3.0   \n",
       "128                              6.4                               2.8   \n",
       "129                              7.2                               3.0   \n",
       "130                              7.4                               2.8   \n",
       "131                              7.9                               3.8   \n",
       "132                              6.4                               2.8   \n",
       "133                              6.3                               2.8   \n",
       "134                              6.1                               2.6   \n",
       "135                              7.7                               3.0   \n",
       "136                              6.3                               3.4   \n",
       "137                              6.4                               3.1   \n",
       "138                              6.0                               3.0   \n",
       "139                              6.9                               3.1   \n",
       "140                              6.7                               3.1   \n",
       "141                              6.9                               3.1   \n",
       "142                              5.8                               2.7   \n",
       "143                              6.8                               3.2   \n",
       "144                              6.7                               3.3   \n",
       "145                              6.7                               3.0   \n",
       "146                              6.3                               2.5   \n",
       "147                              6.5                               3.0   \n",
       "148                              6.2                               3.4   \n",
       "149                              5.9                               3.0   \n",
       "\n",
       "     długość płatka (petal length)  szerokość płatka (petal width)  \\\n",
       "0                              1.4                             0.2   \n",
       "1                              1.4                             0.2   \n",
       "2                              1.3                             0.2   \n",
       "3                              1.5                             0.2   \n",
       "4                              1.4                             0.2   \n",
       "5                              1.7                             0.4   \n",
       "6                              1.4                             0.3   \n",
       "7                              1.5                             0.2   \n",
       "8                              1.4                             0.2   \n",
       "9                              1.5                             0.1   \n",
       "10                             1.5                             0.2   \n",
       "11                             1.6                             0.2   \n",
       "12                             1.4                             0.1   \n",
       "13                             1.1                             0.1   \n",
       "14                             1.2                             0.2   \n",
       "15                             1.5                             0.4   \n",
       "16                             1.3                             0.4   \n",
       "17                             1.4                             0.3   \n",
       "18                             1.7                             0.3   \n",
       "19                             1.5                             0.3   \n",
       "20                             1.7                             0.2   \n",
       "21                             1.5                             0.4   \n",
       "22                             1.0                             0.2   \n",
       "23                             1.7                             0.5   \n",
       "24                             1.9                             0.2   \n",
       "25                             1.6                             0.2   \n",
       "26                             1.6                             0.4   \n",
       "27                             1.5                             0.2   \n",
       "28                             1.4                             0.2   \n",
       "29                             1.6                             0.2   \n",
       "30                             1.6                             0.2   \n",
       "31                             1.5                             0.4   \n",
       "32                             1.5                             0.1   \n",
       "33                             1.4                             0.2   \n",
       "34                             1.5                             0.1   \n",
       "35                             1.2                             0.2   \n",
       "36                             1.3                             0.2   \n",
       "37                             1.5                             0.1   \n",
       "38                             1.3                             0.2   \n",
       "39                             1.5                             0.2   \n",
       "40                             1.3                             0.3   \n",
       "41                             1.3                             0.3   \n",
       "42                             1.3                             0.2   \n",
       "43                             1.6                             0.6   \n",
       "44                             1.9                             0.4   \n",
       "45                             1.4                             0.3   \n",
       "46                             1.6                             0.2   \n",
       "47                             1.4                             0.2   \n",
       "48                             1.5                             0.2   \n",
       "49                             1.4                             0.2   \n",
       "50                             4.7                             1.4   \n",
       "51                             4.5                             1.5   \n",
       "52                             4.9                             1.5   \n",
       "53                             4.0                             1.3   \n",
       "54                             4.6                             1.5   \n",
       "55                             4.5                             1.3   \n",
       "56                             4.7                             1.6   \n",
       "57                             3.3                             1.0   \n",
       "58                             4.6                             1.3   \n",
       "59                             3.9                             1.4   \n",
       "60                             3.5                             1.0   \n",
       "61                             4.2                             1.5   \n",
       "62                             4.0                             1.0   \n",
       "63                             4.7                             1.4   \n",
       "64                             3.6                             1.3   \n",
       "65                             4.4                             1.4   \n",
       "66                             4.5                             1.5   \n",
       "67                             4.1                             1.0   \n",
       "68                             4.5                             1.5   \n",
       "69                             3.9                             1.1   \n",
       "70                             4.8                             1.8   \n",
       "71                             4.0                             1.3   \n",
       "72                             4.9                             1.5   \n",
       "73                             4.7                             1.2   \n",
       "74                             4.3                             1.3   \n",
       "75                             4.4                             1.4   \n",
       "76                             4.8                             1.4   \n",
       "77                             5.0                             1.7   \n",
       "78                             4.5                             1.5   \n",
       "79                             3.5                             1.0   \n",
       "80                             3.8                             1.1   \n",
       "81                             3.7                             1.0   \n",
       "82                             3.9                             1.2   \n",
       "83                             5.1                             1.6   \n",
       "84                             4.5                             1.5   \n",
       "85                             4.5                             1.6   \n",
       "86                             4.7                             1.5   \n",
       "87                             4.4                             1.3   \n",
       "88                             4.1                             1.3   \n",
       "89                             4.0                             1.3   \n",
       "90                             4.4                             1.2   \n",
       "91                             4.6                             1.4   \n",
       "92                             4.0                             1.2   \n",
       "93                             3.3                             1.0   \n",
       "94                             4.2                             1.3   \n",
       "95                             4.2                             1.2   \n",
       "96                             4.2                             1.3   \n",
       "97                             4.3                             1.3   \n",
       "98                             3.0                             1.1   \n",
       "99                             4.1                             1.3   \n",
       "100                            6.0                             2.5   \n",
       "101                            5.1                             1.9   \n",
       "102                            5.9                             2.1   \n",
       "103                            5.6                             1.8   \n",
       "104                            5.8                             2.2   \n",
       "105                            6.6                             2.1   \n",
       "106                            4.5                             1.7   \n",
       "107                            6.3                             1.8   \n",
       "108                            5.8                             1.8   \n",
       "109                            6.1                             2.5   \n",
       "110                            5.1                             2.0   \n",
       "111                            5.3                             1.9   \n",
       "112                            5.5                             2.1   \n",
       "113                            5.0                             2.0   \n",
       "114                            5.1                             2.4   \n",
       "115                            5.3                             2.3   \n",
       "116                            5.5                             1.8   \n",
       "117                            6.7                             2.2   \n",
       "118                            6.9                             2.3   \n",
       "119                            5.0                             1.5   \n",
       "120                            5.7                             2.3   \n",
       "121                            4.9                             2.0   \n",
       "122                            6.7                             2.0   \n",
       "123                            4.9                             1.8   \n",
       "124                            5.7                             2.1   \n",
       "125                            6.0                             1.8   \n",
       "126                            4.8                             1.8   \n",
       "127                            4.9                             1.8   \n",
       "128                            5.6                             2.1   \n",
       "129                            5.8                             1.6   \n",
       "130                            6.1                             1.9   \n",
       "131                            6.4                             2.0   \n",
       "132                            5.6                             2.2   \n",
       "133                            5.1                             1.5   \n",
       "134                            5.6                             1.4   \n",
       "135                            6.1                             2.3   \n",
       "136                            5.6                             2.4   \n",
       "137                            5.5                             1.8   \n",
       "138                            4.8                             1.8   \n",
       "139                            5.4                             2.1   \n",
       "140                            5.6                             2.4   \n",
       "141                            5.1                             2.3   \n",
       "142                            5.1                             1.9   \n",
       "143                            5.9                             2.3   \n",
       "144                            5.7                             2.5   \n",
       "145                            5.2                             2.3   \n",
       "146                            5.0                             1.9   \n",
       "147                            5.2                             2.0   \n",
       "148                            5.4                             2.3   \n",
       "149                            5.1                             1.8   \n",
       "\n",
       "       klasa (class)  \n",
       "0        Iris-setosa  \n",
       "1        Iris-setosa  \n",
       "2        Iris-setosa  \n",
       "3        Iris-setosa  \n",
       "4        Iris-setosa  \n",
       "5        Iris-setosa  \n",
       "6        Iris-setosa  \n",
       "7        Iris-setosa  \n",
       "8        Iris-setosa  \n",
       "9        Iris-setosa  \n",
       "10       Iris-setosa  \n",
       "11       Iris-setosa  \n",
       "12       Iris-setosa  \n",
       "13       Iris-setosa  \n",
       "14       Iris-setosa  \n",
       "15       Iris-setosa  \n",
       "16       Iris-setosa  \n",
       "17       Iris-setosa  \n",
       "18       Iris-setosa  \n",
       "19       Iris-setosa  \n",
       "20       Iris-setosa  \n",
       "21       Iris-setosa  \n",
       "22       Iris-setosa  \n",
       "23       Iris-setosa  \n",
       "24       Iris-setosa  \n",
       "25       Iris-setosa  \n",
       "26       Iris-setosa  \n",
       "27       Iris-setosa  \n",
       "28       Iris-setosa  \n",
       "29       Iris-setosa  \n",
       "30       Iris-setosa  \n",
       "31       Iris-setosa  \n",
       "32       Iris-setosa  \n",
       "33       Iris-setosa  \n",
       "34       Iris-setosa  \n",
       "35       Iris-setosa  \n",
       "36       Iris-setosa  \n",
       "37       Iris-setosa  \n",
       "38       Iris-setosa  \n",
       "39       Iris-setosa  \n",
       "40       Iris-setosa  \n",
       "41       Iris-setosa  \n",
       "42       Iris-setosa  \n",
       "43       Iris-setosa  \n",
       "44       Iris-setosa  \n",
       "45       Iris-setosa  \n",
       "46       Iris-setosa  \n",
       "47       Iris-setosa  \n",
       "48       Iris-setosa  \n",
       "49       Iris-setosa  \n",
       "50   Iris-versicolor  \n",
       "51   Iris-versicolor  \n",
       "52   Iris-versicolor  \n",
       "53   Iris-versicolor  \n",
       "54   Iris-versicolor  \n",
       "55   Iris-versicolor  \n",
       "56   Iris-versicolor  \n",
       "57   Iris-versicolor  \n",
       "58   Iris-versicolor  \n",
       "59   Iris-versicolor  \n",
       "60   Iris-versicolor  \n",
       "61   Iris-versicolor  \n",
       "62   Iris-versicolor  \n",
       "63   Iris-versicolor  \n",
       "64   Iris-versicolor  \n",
       "65   Iris-versicolor  \n",
       "66   Iris-versicolor  \n",
       "67   Iris-versicolor  \n",
       "68   Iris-versicolor  \n",
       "69   Iris-versicolor  \n",
       "70   Iris-versicolor  \n",
       "71   Iris-versicolor  \n",
       "72   Iris-versicolor  \n",
       "73   Iris-versicolor  \n",
       "74   Iris-versicolor  \n",
       "75   Iris-versicolor  \n",
       "76   Iris-versicolor  \n",
       "77   Iris-versicolor  \n",
       "78   Iris-versicolor  \n",
       "79   Iris-versicolor  \n",
       "80   Iris-versicolor  \n",
       "81   Iris-versicolor  \n",
       "82   Iris-versicolor  \n",
       "83   Iris-versicolor  \n",
       "84   Iris-versicolor  \n",
       "85   Iris-versicolor  \n",
       "86   Iris-versicolor  \n",
       "87   Iris-versicolor  \n",
       "88   Iris-versicolor  \n",
       "89   Iris-versicolor  \n",
       "90   Iris-versicolor  \n",
       "91   Iris-versicolor  \n",
       "92   Iris-versicolor  \n",
       "93   Iris-versicolor  \n",
       "94   Iris-versicolor  \n",
       "95   Iris-versicolor  \n",
       "96   Iris-versicolor  \n",
       "97   Iris-versicolor  \n",
       "98   Iris-versicolor  \n",
       "99   Iris-versicolor  \n",
       "100   Iris-virginica  \n",
       "101   Iris-virginica  \n",
       "102   Iris-virginica  \n",
       "103   Iris-virginica  \n",
       "104   Iris-virginica  \n",
       "105   Iris-virginica  \n",
       "106   Iris-virginica  \n",
       "107   Iris-virginica  \n",
       "108   Iris-virginica  \n",
       "109   Iris-virginica  \n",
       "110   Iris-virginica  \n",
       "111   Iris-virginica  \n",
       "112   Iris-virginica  \n",
       "113   Iris-virginica  \n",
       "114   Iris-virginica  \n",
       "115   Iris-virginica  \n",
       "116   Iris-virginica  \n",
       "117   Iris-virginica  \n",
       "118   Iris-virginica  \n",
       "119   Iris-virginica  \n",
       "120   Iris-virginica  \n",
       "121   Iris-virginica  \n",
       "122   Iris-virginica  \n",
       "123   Iris-virginica  \n",
       "124   Iris-virginica  \n",
       "125   Iris-virginica  \n",
       "126   Iris-virginica  \n",
       "127   Iris-virginica  \n",
       "128   Iris-virginica  \n",
       "129   Iris-virginica  \n",
       "130   Iris-virginica  \n",
       "131   Iris-virginica  \n",
       "132   Iris-virginica  \n",
       "133   Iris-virginica  \n",
       "134   Iris-virginica  \n",
       "135   Iris-virginica  \n",
       "136   Iris-virginica  \n",
       "137   Iris-virginica  \n",
       "138   Iris-virginica  \n",
       "139   Iris-virginica  \n",
       "140   Iris-virginica  \n",
       "141   Iris-virginica  \n",
       "142   Iris-virginica  \n",
       "143   Iris-virginica  \n",
       "144   Iris-virginica  \n",
       "145   Iris-virginica  \n",
       "146   Iris-virginica  \n",
       "147   Iris-virginica  \n",
       "148   Iris-virginica  \n",
       "149   Iris-virginica  "
      ]
     },
     "execution_count": 261,
     "metadata": {},
     "output_type": "execute_result"
    }
   ],
   "source": [
    "df = pd.read_csv('25__iris.csv', sep=\",\")\n",
    "df"
   ]
  },
  {
   "cell_type": "markdown",
   "metadata": {
    "editable": true,
    "slideshow": {
     "slide_type": "slide"
    },
    "tags": []
   },
   "source": [
    "# **Ogólny przegląd danych**"
   ]
  },
  {
   "cell_type": "code",
   "execution_count": 4,
   "metadata": {
    "editable": true,
    "slideshow": {
     "slide_type": "slide"
    },
    "tags": []
   },
   "outputs": [
    {
     "name": "stdout",
     "output_type": "stream",
     "text": [
      "<class 'pandas.core.frame.DataFrame'>\n",
      "RangeIndex: 150 entries, 0 to 149\n",
      "Data columns (total 5 columns):\n",
      " #   Column                            Non-Null Count  Dtype  \n",
      "---  ------                            --------------  -----  \n",
      " 0   długość kielicha (sepal length)   150 non-null    float64\n",
      " 1   szerokość kielicha (sepal width)  150 non-null    float64\n",
      " 2   długość płatka (petal length)     150 non-null    float64\n",
      " 3   szerokość płatka (petal width)    150 non-null    float64\n",
      " 4   klasa (class)                     150 non-null    object \n",
      "dtypes: float64(4), object(1)\n",
      "memory usage: 6.0+ KB\n"
     ]
    }
   ],
   "source": [
    "# Informacje o DataFrame\n",
    "df.info()"
   ]
  },
  {
   "cell_type": "code",
   "execution_count": 3,
   "metadata": {
    "editable": true,
    "slideshow": {
     "slide_type": "slide"
    },
    "tags": []
   },
   "outputs": [
    {
     "data": {
      "text/html": [
       "<div>\n",
       "<style scoped>\n",
       "    .dataframe tbody tr th:only-of-type {\n",
       "        vertical-align: middle;\n",
       "    }\n",
       "\n",
       "    .dataframe tbody tr th {\n",
       "        vertical-align: top;\n",
       "    }\n",
       "\n",
       "    .dataframe thead th {\n",
       "        text-align: right;\n",
       "    }\n",
       "</style>\n",
       "<table border=\"1\" class=\"dataframe\">\n",
       "  <thead>\n",
       "    <tr style=\"text-align: right;\">\n",
       "      <th></th>\n",
       "      <th>długość kielicha (sepal length)</th>\n",
       "      <th>szerokość kielicha (sepal width)</th>\n",
       "      <th>długość płatka (petal length)</th>\n",
       "      <th>szerokość płatka (petal width)</th>\n",
       "      <th>klasa (class)</th>\n",
       "    </tr>\n",
       "  </thead>\n",
       "  <tbody>\n",
       "    <tr>\n",
       "      <th>70</th>\n",
       "      <td>5.9</td>\n",
       "      <td>3.2</td>\n",
       "      <td>4.8</td>\n",
       "      <td>1.8</td>\n",
       "      <td>Iris-versicolor</td>\n",
       "    </tr>\n",
       "    <tr>\n",
       "      <th>4</th>\n",
       "      <td>5.0</td>\n",
       "      <td>3.6</td>\n",
       "      <td>1.4</td>\n",
       "      <td>0.2</td>\n",
       "      <td>Iris-setosa</td>\n",
       "    </tr>\n",
       "    <tr>\n",
       "      <th>101</th>\n",
       "      <td>5.8</td>\n",
       "      <td>2.7</td>\n",
       "      <td>5.1</td>\n",
       "      <td>1.9</td>\n",
       "      <td>Iris-virginica</td>\n",
       "    </tr>\n",
       "    <tr>\n",
       "      <th>122</th>\n",
       "      <td>7.7</td>\n",
       "      <td>2.8</td>\n",
       "      <td>6.7</td>\n",
       "      <td>2.0</td>\n",
       "      <td>Iris-virginica</td>\n",
       "    </tr>\n",
       "    <tr>\n",
       "      <th>108</th>\n",
       "      <td>6.7</td>\n",
       "      <td>2.5</td>\n",
       "      <td>5.8</td>\n",
       "      <td>1.8</td>\n",
       "      <td>Iris-virginica</td>\n",
       "    </tr>\n",
       "    <tr>\n",
       "      <th>141</th>\n",
       "      <td>6.9</td>\n",
       "      <td>3.1</td>\n",
       "      <td>5.1</td>\n",
       "      <td>2.3</td>\n",
       "      <td>Iris-virginica</td>\n",
       "    </tr>\n",
       "    <tr>\n",
       "      <th>44</th>\n",
       "      <td>5.1</td>\n",
       "      <td>3.8</td>\n",
       "      <td>1.9</td>\n",
       "      <td>0.4</td>\n",
       "      <td>Iris-setosa</td>\n",
       "    </tr>\n",
       "    <tr>\n",
       "      <th>61</th>\n",
       "      <td>5.9</td>\n",
       "      <td>3.0</td>\n",
       "      <td>4.2</td>\n",
       "      <td>1.5</td>\n",
       "      <td>Iris-versicolor</td>\n",
       "    </tr>\n",
       "    <tr>\n",
       "      <th>27</th>\n",
       "      <td>5.2</td>\n",
       "      <td>3.5</td>\n",
       "      <td>1.5</td>\n",
       "      <td>0.2</td>\n",
       "      <td>Iris-setosa</td>\n",
       "    </tr>\n",
       "    <tr>\n",
       "      <th>91</th>\n",
       "      <td>6.1</td>\n",
       "      <td>3.0</td>\n",
       "      <td>4.6</td>\n",
       "      <td>1.4</td>\n",
       "      <td>Iris-versicolor</td>\n",
       "    </tr>\n",
       "  </tbody>\n",
       "</table>\n",
       "</div>"
      ],
      "text/plain": [
       "     długość kielicha (sepal length)  szerokość kielicha (sepal width)  \\\n",
       "70                               5.9                               3.2   \n",
       "4                                5.0                               3.6   \n",
       "101                              5.8                               2.7   \n",
       "122                              7.7                               2.8   \n",
       "108                              6.7                               2.5   \n",
       "141                              6.9                               3.1   \n",
       "44                               5.1                               3.8   \n",
       "61                               5.9                               3.0   \n",
       "27                               5.2                               3.5   \n",
       "91                               6.1                               3.0   \n",
       "\n",
       "     długość płatka (petal length)  szerokość płatka (petal width)  \\\n",
       "70                             4.8                             1.8   \n",
       "4                              1.4                             0.2   \n",
       "101                            5.1                             1.9   \n",
       "122                            6.7                             2.0   \n",
       "108                            5.8                             1.8   \n",
       "141                            5.1                             2.3   \n",
       "44                             1.9                             0.4   \n",
       "61                             4.2                             1.5   \n",
       "27                             1.5                             0.2   \n",
       "91                             4.6                             1.4   \n",
       "\n",
       "       klasa (class)  \n",
       "70   Iris-versicolor  \n",
       "4        Iris-setosa  \n",
       "101   Iris-virginica  \n",
       "122   Iris-virginica  \n",
       "108   Iris-virginica  \n",
       "141   Iris-virginica  \n",
       "44       Iris-setosa  \n",
       "61   Iris-versicolor  \n",
       "27       Iris-setosa  \n",
       "91   Iris-versicolor  "
      ]
     },
     "execution_count": 3,
     "metadata": {},
     "output_type": "execute_result"
    }
   ],
   "source": [
    "# Prezentacja 10 losowych rekordów\n",
    "df.sample(10)"
   ]
  },
  {
   "cell_type": "code",
   "execution_count": 26,
   "metadata": {
    "editable": true,
    "slideshow": {
     "slide_type": "slide"
    },
    "tags": []
   },
   "outputs": [
    {
     "data": {
      "text/html": [
       "<div>\n",
       "<style scoped>\n",
       "    .dataframe tbody tr th:only-of-type {\n",
       "        vertical-align: middle;\n",
       "    }\n",
       "\n",
       "    .dataframe tbody tr th {\n",
       "        vertical-align: top;\n",
       "    }\n",
       "\n",
       "    .dataframe thead th {\n",
       "        text-align: right;\n",
       "    }\n",
       "</style>\n",
       "<table border=\"1\" class=\"dataframe\">\n",
       "  <thead>\n",
       "    <tr style=\"text-align: right;\">\n",
       "      <th></th>\n",
       "      <th>długość kielicha (sepal length)</th>\n",
       "      <th>szerokość kielicha (sepal width)</th>\n",
       "      <th>długość płatka (petal length)</th>\n",
       "      <th>szerokość płatka (petal width)</th>\n",
       "      <th>klasa (class)</th>\n",
       "    </tr>\n",
       "  </thead>\n",
       "  <tbody>\n",
       "    <tr>\n",
       "      <th>0</th>\n",
       "      <td>5.1</td>\n",
       "      <td>3.5</td>\n",
       "      <td>1.4</td>\n",
       "      <td>0.2</td>\n",
       "      <td>Iris-setosa</td>\n",
       "    </tr>\n",
       "    <tr>\n",
       "      <th>1</th>\n",
       "      <td>4.9</td>\n",
       "      <td>3.0</td>\n",
       "      <td>1.4</td>\n",
       "      <td>0.2</td>\n",
       "      <td>Iris-setosa</td>\n",
       "    </tr>\n",
       "    <tr>\n",
       "      <th>2</th>\n",
       "      <td>4.7</td>\n",
       "      <td>3.2</td>\n",
       "      <td>1.3</td>\n",
       "      <td>0.2</td>\n",
       "      <td>Iris-setosa</td>\n",
       "    </tr>\n",
       "    <tr>\n",
       "      <th>3</th>\n",
       "      <td>4.6</td>\n",
       "      <td>3.1</td>\n",
       "      <td>1.5</td>\n",
       "      <td>0.2</td>\n",
       "      <td>Iris-setosa</td>\n",
       "    </tr>\n",
       "    <tr>\n",
       "      <th>4</th>\n",
       "      <td>5.0</td>\n",
       "      <td>3.6</td>\n",
       "      <td>1.4</td>\n",
       "      <td>0.2</td>\n",
       "      <td>Iris-setosa</td>\n",
       "    </tr>\n",
       "    <tr>\n",
       "      <th>5</th>\n",
       "      <td>5.4</td>\n",
       "      <td>3.9</td>\n",
       "      <td>1.7</td>\n",
       "      <td>0.4</td>\n",
       "      <td>Iris-setosa</td>\n",
       "    </tr>\n",
       "    <tr>\n",
       "      <th>6</th>\n",
       "      <td>4.6</td>\n",
       "      <td>3.4</td>\n",
       "      <td>1.4</td>\n",
       "      <td>0.3</td>\n",
       "      <td>Iris-setosa</td>\n",
       "    </tr>\n",
       "    <tr>\n",
       "      <th>7</th>\n",
       "      <td>5.0</td>\n",
       "      <td>3.4</td>\n",
       "      <td>1.5</td>\n",
       "      <td>0.2</td>\n",
       "      <td>Iris-setosa</td>\n",
       "    </tr>\n",
       "    <tr>\n",
       "      <th>8</th>\n",
       "      <td>4.4</td>\n",
       "      <td>2.9</td>\n",
       "      <td>1.4</td>\n",
       "      <td>0.2</td>\n",
       "      <td>Iris-setosa</td>\n",
       "    </tr>\n",
       "    <tr>\n",
       "      <th>9</th>\n",
       "      <td>4.9</td>\n",
       "      <td>3.1</td>\n",
       "      <td>1.5</td>\n",
       "      <td>0.1</td>\n",
       "      <td>Iris-setosa</td>\n",
       "    </tr>\n",
       "  </tbody>\n",
       "</table>\n",
       "</div>"
      ],
      "text/plain": [
       "   długość kielicha (sepal length)  szerokość kielicha (sepal width)  \\\n",
       "0                              5.1                               3.5   \n",
       "1                              4.9                               3.0   \n",
       "2                              4.7                               3.2   \n",
       "3                              4.6                               3.1   \n",
       "4                              5.0                               3.6   \n",
       "5                              5.4                               3.9   \n",
       "6                              4.6                               3.4   \n",
       "7                              5.0                               3.4   \n",
       "8                              4.4                               2.9   \n",
       "9                              4.9                               3.1   \n",
       "\n",
       "   długość płatka (petal length)  szerokość płatka (petal width) klasa (class)  \n",
       "0                            1.4                             0.2   Iris-setosa  \n",
       "1                            1.4                             0.2   Iris-setosa  \n",
       "2                            1.3                             0.2   Iris-setosa  \n",
       "3                            1.5                             0.2   Iris-setosa  \n",
       "4                            1.4                             0.2   Iris-setosa  \n",
       "5                            1.7                             0.4   Iris-setosa  \n",
       "6                            1.4                             0.3   Iris-setosa  \n",
       "7                            1.5                             0.2   Iris-setosa  \n",
       "8                            1.4                             0.2   Iris-setosa  \n",
       "9                            1.5                             0.1   Iris-setosa  "
      ]
     },
     "execution_count": 26,
     "metadata": {},
     "output_type": "execute_result"
    }
   ],
   "source": [
    "# Informacje o ułożeniu danych w DataFrame na podstawie 10 pierwszych rekordów\n",
    "df.head(10)"
   ]
  },
  {
   "cell_type": "code",
   "execution_count": 27,
   "metadata": {
    "editable": true,
    "slideshow": {
     "slide_type": "slide"
    },
    "tags": []
   },
   "outputs": [
    {
     "data": {
      "text/html": [
       "<div>\n",
       "<style scoped>\n",
       "    .dataframe tbody tr th:only-of-type {\n",
       "        vertical-align: middle;\n",
       "    }\n",
       "\n",
       "    .dataframe tbody tr th {\n",
       "        vertical-align: top;\n",
       "    }\n",
       "\n",
       "    .dataframe thead th {\n",
       "        text-align: right;\n",
       "    }\n",
       "</style>\n",
       "<table border=\"1\" class=\"dataframe\">\n",
       "  <thead>\n",
       "    <tr style=\"text-align: right;\">\n",
       "      <th></th>\n",
       "      <th>długość kielicha (sepal length)</th>\n",
       "      <th>szerokość kielicha (sepal width)</th>\n",
       "      <th>długość płatka (petal length)</th>\n",
       "      <th>szerokość płatka (petal width)</th>\n",
       "      <th>klasa (class)</th>\n",
       "    </tr>\n",
       "  </thead>\n",
       "  <tbody>\n",
       "    <tr>\n",
       "      <th>140</th>\n",
       "      <td>6.7</td>\n",
       "      <td>3.1</td>\n",
       "      <td>5.6</td>\n",
       "      <td>2.4</td>\n",
       "      <td>Iris-virginica</td>\n",
       "    </tr>\n",
       "    <tr>\n",
       "      <th>141</th>\n",
       "      <td>6.9</td>\n",
       "      <td>3.1</td>\n",
       "      <td>5.1</td>\n",
       "      <td>2.3</td>\n",
       "      <td>Iris-virginica</td>\n",
       "    </tr>\n",
       "    <tr>\n",
       "      <th>142</th>\n",
       "      <td>5.8</td>\n",
       "      <td>2.7</td>\n",
       "      <td>5.1</td>\n",
       "      <td>1.9</td>\n",
       "      <td>Iris-virginica</td>\n",
       "    </tr>\n",
       "    <tr>\n",
       "      <th>143</th>\n",
       "      <td>6.8</td>\n",
       "      <td>3.2</td>\n",
       "      <td>5.9</td>\n",
       "      <td>2.3</td>\n",
       "      <td>Iris-virginica</td>\n",
       "    </tr>\n",
       "    <tr>\n",
       "      <th>144</th>\n",
       "      <td>6.7</td>\n",
       "      <td>3.3</td>\n",
       "      <td>5.7</td>\n",
       "      <td>2.5</td>\n",
       "      <td>Iris-virginica</td>\n",
       "    </tr>\n",
       "    <tr>\n",
       "      <th>145</th>\n",
       "      <td>6.7</td>\n",
       "      <td>3.0</td>\n",
       "      <td>5.2</td>\n",
       "      <td>2.3</td>\n",
       "      <td>Iris-virginica</td>\n",
       "    </tr>\n",
       "    <tr>\n",
       "      <th>146</th>\n",
       "      <td>6.3</td>\n",
       "      <td>2.5</td>\n",
       "      <td>5.0</td>\n",
       "      <td>1.9</td>\n",
       "      <td>Iris-virginica</td>\n",
       "    </tr>\n",
       "    <tr>\n",
       "      <th>147</th>\n",
       "      <td>6.5</td>\n",
       "      <td>3.0</td>\n",
       "      <td>5.2</td>\n",
       "      <td>2.0</td>\n",
       "      <td>Iris-virginica</td>\n",
       "    </tr>\n",
       "    <tr>\n",
       "      <th>148</th>\n",
       "      <td>6.2</td>\n",
       "      <td>3.4</td>\n",
       "      <td>5.4</td>\n",
       "      <td>2.3</td>\n",
       "      <td>Iris-virginica</td>\n",
       "    </tr>\n",
       "    <tr>\n",
       "      <th>149</th>\n",
       "      <td>5.9</td>\n",
       "      <td>3.0</td>\n",
       "      <td>5.1</td>\n",
       "      <td>1.8</td>\n",
       "      <td>Iris-virginica</td>\n",
       "    </tr>\n",
       "  </tbody>\n",
       "</table>\n",
       "</div>"
      ],
      "text/plain": [
       "     długość kielicha (sepal length)  szerokość kielicha (sepal width)  \\\n",
       "140                              6.7                               3.1   \n",
       "141                              6.9                               3.1   \n",
       "142                              5.8                               2.7   \n",
       "143                              6.8                               3.2   \n",
       "144                              6.7                               3.3   \n",
       "145                              6.7                               3.0   \n",
       "146                              6.3                               2.5   \n",
       "147                              6.5                               3.0   \n",
       "148                              6.2                               3.4   \n",
       "149                              5.9                               3.0   \n",
       "\n",
       "     długość płatka (petal length)  szerokość płatka (petal width)  \\\n",
       "140                            5.6                             2.4   \n",
       "141                            5.1                             2.3   \n",
       "142                            5.1                             1.9   \n",
       "143                            5.9                             2.3   \n",
       "144                            5.7                             2.5   \n",
       "145                            5.2                             2.3   \n",
       "146                            5.0                             1.9   \n",
       "147                            5.2                             2.0   \n",
       "148                            5.4                             2.3   \n",
       "149                            5.1                             1.8   \n",
       "\n",
       "      klasa (class)  \n",
       "140  Iris-virginica  \n",
       "141  Iris-virginica  \n",
       "142  Iris-virginica  \n",
       "143  Iris-virginica  \n",
       "144  Iris-virginica  \n",
       "145  Iris-virginica  \n",
       "146  Iris-virginica  \n",
       "147  Iris-virginica  \n",
       "148  Iris-virginica  \n",
       "149  Iris-virginica  "
      ]
     },
     "execution_count": 27,
     "metadata": {},
     "output_type": "execute_result"
    }
   ],
   "source": [
    "# Informacje o ułożeniu danych w DataFrame na podstawie 10 ostatnich rekordów\n",
    "df.tail(10)"
   ]
  },
  {
   "cell_type": "code",
   "execution_count": 19,
   "metadata": {},
   "outputs": [
    {
     "data": {
      "text/plain": [
       "array(['Iris-setosa', 'Iris-versicolor', 'Iris-virginica'], dtype=object)"
      ]
     },
     "execution_count": 19,
     "metadata": {},
     "output_type": "execute_result"
    }
   ],
   "source": [
    "# Informacje o wartościach unikatowych dla danych nienumerycznych\n",
    "df[\"klasa (class)\"].unique()"
   ]
  },
  {
   "cell_type": "code",
   "execution_count": 9,
   "metadata": {},
   "outputs": [
    {
     "data": {
      "text/plain": [
       "Iris-setosa        50\n",
       "Iris-versicolor    50\n",
       "Iris-virginica     50\n",
       "Name: klasa (class), dtype: int64"
      ]
     },
     "execution_count": 9,
     "metadata": {},
     "output_type": "execute_result"
    }
   ],
   "source": [
    "# Informacje o liczbie wartości unikatowych dla danych nienumerycznych \n",
    "df[\"klasa (class)\"].value_counts()"
   ]
  },
  {
   "cell_type": "code",
   "execution_count": 17,
   "metadata": {},
   "outputs": [
    {
     "data": {
      "text/html": [
       "<div>\n",
       "<style scoped>\n",
       "    .dataframe tbody tr th:only-of-type {\n",
       "        vertical-align: middle;\n",
       "    }\n",
       "\n",
       "    .dataframe tbody tr th {\n",
       "        vertical-align: top;\n",
       "    }\n",
       "\n",
       "    .dataframe thead th {\n",
       "        text-align: right;\n",
       "    }\n",
       "</style>\n",
       "<table border=\"1\" class=\"dataframe\">\n",
       "  <thead>\n",
       "    <tr style=\"text-align: right;\">\n",
       "      <th></th>\n",
       "      <th>długość kielicha (sepal length)</th>\n",
       "      <th>szerokość kielicha (sepal width)</th>\n",
       "      <th>długość płatka (petal length)</th>\n",
       "      <th>szerokość płatka (petal width)</th>\n",
       "    </tr>\n",
       "  </thead>\n",
       "  <tbody>\n",
       "    <tr>\n",
       "      <th>count</th>\n",
       "      <td>150.000000</td>\n",
       "      <td>150.000000</td>\n",
       "      <td>150.000000</td>\n",
       "      <td>150.000000</td>\n",
       "    </tr>\n",
       "    <tr>\n",
       "      <th>mean</th>\n",
       "      <td>5.843333</td>\n",
       "      <td>3.054000</td>\n",
       "      <td>3.758667</td>\n",
       "      <td>1.198667</td>\n",
       "    </tr>\n",
       "    <tr>\n",
       "      <th>std</th>\n",
       "      <td>0.828066</td>\n",
       "      <td>0.433594</td>\n",
       "      <td>1.764420</td>\n",
       "      <td>0.763161</td>\n",
       "    </tr>\n",
       "    <tr>\n",
       "      <th>min</th>\n",
       "      <td>4.300000</td>\n",
       "      <td>2.000000</td>\n",
       "      <td>1.000000</td>\n",
       "      <td>0.100000</td>\n",
       "    </tr>\n",
       "    <tr>\n",
       "      <th>25%</th>\n",
       "      <td>5.100000</td>\n",
       "      <td>2.800000</td>\n",
       "      <td>1.600000</td>\n",
       "      <td>0.300000</td>\n",
       "    </tr>\n",
       "    <tr>\n",
       "      <th>50%</th>\n",
       "      <td>5.800000</td>\n",
       "      <td>3.000000</td>\n",
       "      <td>4.350000</td>\n",
       "      <td>1.300000</td>\n",
       "    </tr>\n",
       "    <tr>\n",
       "      <th>75%</th>\n",
       "      <td>6.400000</td>\n",
       "      <td>3.300000</td>\n",
       "      <td>5.100000</td>\n",
       "      <td>1.800000</td>\n",
       "    </tr>\n",
       "    <tr>\n",
       "      <th>max</th>\n",
       "      <td>7.900000</td>\n",
       "      <td>4.400000</td>\n",
       "      <td>6.900000</td>\n",
       "      <td>2.500000</td>\n",
       "    </tr>\n",
       "  </tbody>\n",
       "</table>\n",
       "</div>"
      ],
      "text/plain": [
       "       długość kielicha (sepal length)  szerokość kielicha (sepal width)  \\\n",
       "count                       150.000000                        150.000000   \n",
       "mean                          5.843333                          3.054000   \n",
       "std                           0.828066                          0.433594   \n",
       "min                           4.300000                          2.000000   \n",
       "25%                           5.100000                          2.800000   \n",
       "50%                           5.800000                          3.000000   \n",
       "75%                           6.400000                          3.300000   \n",
       "max                           7.900000                          4.400000   \n",
       "\n",
       "       długość płatka (petal length)  szerokość płatka (petal width)  \n",
       "count                     150.000000                      150.000000  \n",
       "mean                        3.758667                        1.198667  \n",
       "std                         1.764420                        0.763161  \n",
       "min                         1.000000                        0.100000  \n",
       "25%                         1.600000                        0.300000  \n",
       "50%                         4.350000                        1.300000  \n",
       "75%                         5.100000                        1.800000  \n",
       "max                         6.900000                        2.500000  "
      ]
     },
     "execution_count": 17,
     "metadata": {},
     "output_type": "execute_result"
    }
   ],
   "source": [
    "# Podsumowanie każdej kolumny numerycznej\n",
    "df.describe()"
   ]
  },
  {
   "cell_type": "markdown",
   "metadata": {},
   "source": [
    "## Wnioski z ogólnego przeglądu danych\n",
    "- **Charakterystyka ogólna** Zbiór danych kwiatów podzielony na trzy gatunki ('Iris-setosa', 'Iris-versicolor', 'Iris-virginica'). Zbiór składa się ze 150 rekordów posegregowanych wg gatunków. Każdy rekord reprezentuje jeden kwiat opisany wartościami czterech pomiarów ('długość kielicha (sepal  length)', 'szerokość kielicha (sepal width)', 'długość płatka (petal length)', 'szerokość płatka (petal width)'). Zbiór każdego gatunku zawiera 50 rekordów.\n",
    "- **Charakterystyka danych** Różnice między kwartylami sugerują, że rozkłady mogą być w przybliżeniu symetryczne. Niska wartość minimalna dla szerokości płatka (0.1) może sugerować występowanie wartości odstających. Średnie wartości dla poszczególnych cech dają nam ogólne pojęcie o przeciętnym rozmiarze kwiatów w badanej populacji. Mediany są zbliżone do średnich, co potwierdza przypuszczenie o symetrycznym rozkładzie danych. Różne odchylenia standardowe dla poszczególnych cech wskazują na różny stopień zmienności tych cech. Długość płatka wykazuje największe zróżnicowanie, a szerokość płatka najmniejsze. Różnice między wartościami minimalnymi i maksymalnymi potwierdzają, że cechy wykazują różny stopień zmienności."
   ]
  },
  {
   "cell_type": "markdown",
   "metadata": {},
   "source": [
    "# **Analiza brakujących wartości**"
   ]
  },
  {
   "cell_type": "code",
   "execution_count": 85,
   "metadata": {},
   "outputs": [
    {
     "data": {
      "text/plain": [
       "długość kielicha (sepal length)     0\n",
       "szerokość kielicha (sepal width)    0\n",
       "długość płatka (petal length)       0\n",
       "szerokość płatka (petal width)      0\n",
       "klasa (class)                       0\n",
       "dtype: int64"
      ]
     },
     "execution_count": 85,
     "metadata": {},
     "output_type": "execute_result"
    }
   ],
   "source": [
    "# Informacje o wartościach brakujących w każdej kolumnie\n",
    "df.isnull().sum()"
   ]
  },
  {
   "cell_type": "code",
   "execution_count": 86,
   "metadata": {},
   "outputs": [
    {
     "data": {
      "text/plain": [
       "długość kielicha (sepal length)     float64\n",
       "szerokość kielicha (sepal width)    float64\n",
       "długość płatka (petal length)       float64\n",
       "szerokość płatka (petal width)      float64\n",
       "klasa (class)                        object\n",
       "dtype: object"
      ]
     },
     "execution_count": 86,
     "metadata": {},
     "output_type": "execute_result"
    }
   ],
   "source": [
    "# Informacje o typach danych dla każdej seri danych\n",
    "df.dtypes"
   ]
  },
  {
   "cell_type": "markdown",
   "metadata": {},
   "source": [
    "**Wnioski**\n",
    "Zbiór danych jest kompletny, tj. nie wykazano brakujących wartości w seriach danych. Typ danych dla czterech serii danych to float. Seria danych 'klasa (class)' jest typu 'object', w tym przypadktu to dane typu 'string'."
   ]
  },
  {
   "cell_type": "markdown",
   "metadata": {},
   "source": [
    "# **Analiza pojedynczych zmiennych**"
   ]
  },
  {
   "cell_type": "markdown",
   "metadata": {},
   "source": [
    "## Analiza serii danych"
   ]
  },
  {
   "cell_type": "code",
   "execution_count": 73,
   "metadata": {},
   "outputs": [
    {
     "data": {
      "text/plain": [
       "count    150.000000\n",
       "mean       5.843333\n",
       "std        0.828066\n",
       "min        4.300000\n",
       "25%        5.100000\n",
       "50%        5.800000\n",
       "75%        6.400000\n",
       "max        7.900000\n",
       "Name: długość kielicha (sepal length), dtype: float64"
      ]
     },
     "execution_count": 73,
     "metadata": {},
     "output_type": "execute_result"
    },
    {
     "data": {
      "image/png": "[encoded data removed]",
      "text/plain": [
       "<Figure size 640x480 with 1 Axes>"
      ]
     },
     "metadata": {},
     "output_type": "display_data"
    }
   ],
   "source": [
    "df[\"długość kielicha (sepal length)\"].hist(bins=50, legend=True)\n",
    "df[\"długość kielicha (sepal length)\"].describe()"
   ]
  },
  {
   "cell_type": "markdown",
   "metadata": {},
   "source": [
    "**Wnioski cząstkowe dla serii danych 'długość kielicha (sepal length)'**\n",
    "- **kształt rozkładu:** Rozkład danych jest prawie symetryczny, co oznacza, że większość wartości skupiona jest wokół średniej, a wartości ekstremalne występują mniej więcej równomiernie po obu stronach średniej. Regularnie występujące luki w pomiarach mogą wskazywać na istnienie kilku podgrup danych.\n",
    "- **wartości centralne:** Niewielkie odchylenie między średnią (5.84) a medianą (5.80) wskazuje na możliwość relatywnie niewielkiego wystąpienia wartości odstających. \n",
    "- **rozproszenie danych:** Rozproszenie danych jest umiarkowane. Odchylenie standardowe nie jest zbyt duże, co oznacza, że większość wartości skupiona jest blisko średniej. Rozstęp międzykwartylowy również wskazuje na umiarkowane rozproszenie."
   ]
  },
  {
   "cell_type": "code",
   "execution_count": 78,
   "metadata": {},
   "outputs": [
    {
     "data": {
      "text/plain": [
       "count    150.000000\n",
       "mean       3.054000\n",
       "std        0.433594\n",
       "min        2.000000\n",
       "25%        2.800000\n",
       "50%        3.000000\n",
       "75%        3.300000\n",
       "max        4.400000\n",
       "Name: szerokość kielicha (sepal width), dtype: float64"
      ]
     },
     "execution_count": 78,
     "metadata": {},
     "output_type": "execute_result"
    },
    {
     "data": {
      "image/png": "[encoded data removed]",
      "text/plain": [
       "<Figure size 640x480 with 1 Axes>"
      ]
     },
     "metadata": {},
     "output_type": "display_data"
    }
   ],
   "source": [
    "df[\"szerokość kielicha (sepal width)\"].hist(bins=50, legend=True)\n",
    "df[\"szerokość kielicha (sepal width)\"].describe()"
   ]
  },
  {
   "cell_type": "markdown",
   "metadata": {},
   "source": [
    "**Wnioski cząstkowe dla serii danych 'szerokość kielicha (sepal width)'**\n",
    "- **kształt rozkładu:** Rozkład danych jest prawie symetryczny, co oznacza, że większość wartości skupiona jest wokół średniej, a wartości ekstremalne występują mniej więcej równomiernie po obu stronach średniej. \n",
    "- **wartości centralne:** Obie miary centralne są do siebie bardzo zbliżone, co ponownie potwierdza symetrię rozkładu. Oznacza to, że większość wartości skupia się wokół 3.\n",
    "- **rozproszenie danych:** Odchylenie standardowe (std): 0.433594 i rozstęp kwartylowy (Q3-Q1): 0.5 wskazują na umiarkowane rozproszenie danych. Większość obserwacji znajduje się w stosunkowo wąskim przedziale wokół średniej."
   ]
  },
  {
   "cell_type": "code",
   "execution_count": 79,
   "metadata": {},
   "outputs": [
    {
     "data": {
      "text/plain": [
       "count    150.000000\n",
       "mean       3.758667\n",
       "std        1.764420\n",
       "min        1.000000\n",
       "25%        1.600000\n",
       "50%        4.350000\n",
       "75%        5.100000\n",
       "max        6.900000\n",
       "Name: długość płatka (petal length), dtype: float64"
      ]
     },
     "execution_count": 79,
     "metadata": {},
     "output_type": "execute_result"
    },
    {
     "data": {
      "image/png": "[encoded data removed]",
      "text/plain": [
       "<Figure size 640x480 with 1 Axes>"
      ]
     },
     "metadata": {},
     "output_type": "display_data"
    }
   ],
   "source": [
    "df[\"długość płatka (petal length)\"].hist(bins=50, legend=True)\n",
    "df[\"długość płatka (petal length)\"].describe()"
   ]
  },
  {
   "cell_type": "markdown",
   "metadata": {},
   "source": [
    "**Wnioski cząstkowe dla serii danych 'długość płatka (petal length)'**\n",
    "- **kształt rozkładu:** Asymetria prawoskrętna. Mediana (4.35) jest większa od średniej (3.76), co sugeruje, że rozkład jest prawoskrętny. Oznacza to, że większość danych skupiona jest po lewej stronie rozkładu, a dłuższy \"ogon\" rozciąga się w prawo. Różnica między trzecim kwartylem (75%) a medianą jest większa niż między medianą a pierwszym kwartylem (25%). To dodatkowo potwierdza prawoskrętność rozkładu.\n",
    "- **wartości centralne:** Różnica między średnią a medianą wskazuje na asymetrię rozkładu.\n",
    "- **rozproszenie danych:** Rozproszenie danych jest umiarkowane, o czym świadczy wartość odchylenia standardowego i rozstęp międzykwartylowy."
   ]
  },
  {
   "cell_type": "code",
   "execution_count": 82,
   "metadata": {},
   "outputs": [
    {
     "data": {
      "text/plain": [
       "count    150.000000\n",
       "mean       1.198667\n",
       "std        0.763161\n",
       "min        0.100000\n",
       "25%        0.300000\n",
       "50%        1.300000\n",
       "75%        1.800000\n",
       "max        2.500000\n",
       "Name: szerokość płatka (petal width), dtype: float64"
      ]
     },
     "execution_count": 82,
     "metadata": {},
     "output_type": "execute_result"
    },
    {
     "data": {
      "image/png": "[encoded data removed]",
      "text/plain": [
       "<Figure size 640x480 with 1 Axes>"
      ]
     },
     "metadata": {},
     "output_type": "display_data"
    }
   ],
   "source": [
    "df[\"szerokość płatka (petal width)\"].hist(bins=50, legend=True)\n",
    "df[\"szerokość płatka (petal width)\"].describe()"
   ]
  },
  {
   "cell_type": "markdown",
   "metadata": {},
   "source": [
    "**Wnioski cząstkowe dla serii danych 'szerokość płatka (petal width)'**\n",
    "- **kształt rozkładu:** Asymetria prawoskrętna. Mediana (1.3) jest nieco większa niż średnia (1.2), co sugeruje lekką asymetrię prawoskrętna rozkładu. Oznacza to, że większość danych skupiona jest po lewej stronie rozkładu, a dłuższy \"ogon\" rozciąga się w prawo. Różnica między trzecim kwartylem (75%) a medianą jest nieco większa niż między medianą a pierwszym kwartylem (25%), co dodatkowo potwierdza tę tendencję.\n",
    "- **wartości centralne:** Niewielka różnica między średnią a medianą sugeruje, że rozkład jest stosunkowo symetryczny, choć nadal wykazuje lekką asymetrię prawoskrętna.\n",
    "- **rozproszenie danych:** Rozproszenie danych jest umiarkowane, o czym świadczy wartość odchylenia standardowego i rozstęp międzykwartylowy."
   ]
  },
  {
   "cell_type": "markdown",
   "metadata": {},
   "source": [
    "**Wnioski z analizy serii danych**\n",
    "- Dla zmiennych 'długość kielicha (sepal length)' i 'szerokość kielicha (sepal width)' kształ rozkładu zbliżony jest do symetrycznego, co oznacza, że nie ma lub występują sporadycznie wartości, które znacząco odbiegają od większości danych.\n",
    "- Dla zmiennych długość płatka (petal length)' i 'szerokość płatka (petal width)' kształt rozkładu to asymetria prawoskrętna, co oznacza, że istnieje pewna bariera, która ogranicza wartości od dołu, ale nie ma ograniczenia od góry.\n",
    "- Charakterystyczne regularnie występujące luki widoczne w histogramie zmiennej 'długość kielicha (sepal length)'może wskazywać na istnienie kilku podgrup danych. W związku z tym należy zweryfikować rozkład wg poszczególnych kategorii danych aby zidentyfikować ewentualne podgrupy.\n",
    "- Charakterystyczna luka danych widoczna w histogramach zmiennych 'długość płatka (petal length)' i 'szerokość płatka (petal width)' może wskazywać na anomalię taką jak np. brak danych w danym zakresie pomiarów. W związku z tym należy należy zweryfikować rozkład wg poszczególnych kategorii danych aby wykluczyć przyczynę wystąpienia anomali wynikającą z charakterystyki samych danych. "
   ]
  },
  {
   "cell_type": "markdown",
   "metadata": {},
   "source": [
    "## Analiza danych wg kategorii"
   ]
  },
  {
   "cell_type": "markdown",
   "metadata": {},
   "source": [
    "### Kategoria 'Iris-setosa'"
   ]
  },
  {
   "cell_type": "code",
   "execution_count": 160,
   "metadata": {},
   "outputs": [],
   "source": [
    "Iris_setosa_df = df[df[\"klasa (class)\"] == \"Iris-setosa\"]"
   ]
  },
  {
   "cell_type": "code",
   "execution_count": 161,
   "metadata": {},
   "outputs": [
    {
     "data": {
      "text/plain": [
       "count    50.00000\n",
       "mean      5.00600\n",
       "std       0.35249\n",
       "min       4.30000\n",
       "25%       4.80000\n",
       "50%       5.00000\n",
       "75%       5.20000\n",
       "max       5.80000\n",
       "Name: długość kielicha (sepal length), dtype: float64"
      ]
     },
     "execution_count": 161,
     "metadata": {},
     "output_type": "execute_result"
    },
    {
     "data": {
      "image/png": "[encoded data removed]",
      "text/plain": [
       "<Figure size 640x480 with 1 Axes>"
      ]
     },
     "metadata": {},
     "output_type": "display_data"
    }
   ],
   "source": [
    "Iris_setosa_df[\"długość kielicha (sepal length)\"].hist(bins=50, legend=True)\n",
    "Iris_setosa_df[\"długość kielicha (sepal length)\"].describe()"
   ]
  },
  {
   "cell_type": "markdown",
   "metadata": {},
   "source": [
    "**Wnioski cząstkowe dla serii danych 'długość kielicha (sepal length)'**\n",
    "- **kształt rozkładu:** Symetryczny kształt rozkładu sugeruje, że dane są rozłożone równomiernie wokół wartości centralnych. Nie ma wyraźnej tendencji do skupiania się wartości po jednej ze stron średniej. \n",
    "- **wartości centralne:** Równość średniej (5,00) i mediany (5,00) jest dodatkowym potwierdzeniem symetrii rozkładu. Oznacza to, że wartość środkowa zbioru danych (mediana) pokrywa się z wartością średnią arytmetyczną, co jest charakterystyczne dla rozkładów symetrycznych. Rozkład dwumodalny oznacza to, że dane skupiają się wokół dwóch różnych wartości, sugerując, że w badanej populacji istnieją dwie (lub więcej) odrębne grupy.\n",
    "- **rozproszenie danych** Wąski zakres danych (min 4,30 / max 5,80) wskazuje, że wartości są dość zbliżone do siebie. Oznacza to, że większość obserwacji skupia się wokół wartości centralnych. Niskie odchylenie standardowe (std 0,35) potwierdza, że dane są mało zróżnicowane. Większość wartości znajduje się blisko średniej. Występuje jedna luka w wartościach."
   ]
  },
  {
   "cell_type": "code",
   "execution_count": 162,
   "metadata": {},
   "outputs": [
    {
     "data": {
      "text/plain": [
       "count    50.000000\n",
       "mean      3.418000\n",
       "std       0.381024\n",
       "min       2.300000\n",
       "25%       3.125000\n",
       "50%       3.400000\n",
       "75%       3.675000\n",
       "max       4.400000\n",
       "Name: szerokość kielicha (sepal width), dtype: float64"
      ]
     },
     "execution_count": 162,
     "metadata": {},
     "output_type": "execute_result"
    },
    {
     "data": {
      "image/png": "[encoded data removed]",
      "text/plain": [
       "<Figure size 640x480 with 1 Axes>"
      ]
     },
     "metadata": {},
     "output_type": "display_data"
    }
   ],
   "source": [
    "Iris_setosa_df[\"szerokość kielicha (sepal width)\"].hist(bins=50, legend=True)\n",
    "Iris_setosa_df[\"szerokość kielicha (sepal width)\"].describe()"
   ]
  },
  {
   "cell_type": "markdown",
   "metadata": {},
   "source": [
    "**Wnioski cząstkowe dla serii danych 'szerokość kielicha (sepal width)'**\n",
    "- **kształt rozkładu:** Symetryczny kształt rozkładu sugeruje, że dane są rozłożone dość równomiernie wokół wartości centralnych. Nie ma wyraźnej tendencji do skupiania się wartości po jednej ze stron średniej. \n",
    "- **wartości centralne:** Choć występuje niewielkie odchylenie między średnią a medianą, jest ono bardzo małe (0,01). To sugeruje, że rozkład jest bliski symetrycznemu i nie ma znaczących asymetrii. Rozkład jednomodalny oznacza to, że najczęściej występującą wartością jest tylko jedna.\n",
    "- **rozproszenie danych** Zakres danych (min 2,30 / max 4,40) oraz odchylenie standardowe (std 0,38) wskazują na średnie rozproszenie wartości. Oznacza to, że wartości są dość zróżnicowane, ale nie w sposób ekstremalny. Większość obserwacji skupia się wokół średniej, jednak występują również wartości bardziej oddalone. Występują luki w wartościach."
   ]
  },
  {
   "cell_type": "code",
   "execution_count": 163,
   "metadata": {},
   "outputs": [
    {
     "data": {
      "text/plain": [
       "count    50.000000\n",
       "mean      1.464000\n",
       "std       0.173511\n",
       "min       1.000000\n",
       "25%       1.400000\n",
       "50%       1.500000\n",
       "75%       1.575000\n",
       "max       1.900000\n",
       "Name: długość płatka (petal length), dtype: float64"
      ]
     },
     "execution_count": 163,
     "metadata": {},
     "output_type": "execute_result"
    },
    {
     "data": {
      "image/png": "[encoded data removed]",
      "text/plain": [
       "<Figure size 640x480 with 1 Axes>"
      ]
     },
     "metadata": {},
     "output_type": "display_data"
    }
   ],
   "source": [
    "Iris_setosa_df[\"długość płatka (petal length)\"].hist(bins=50, legend=True)\n",
    "Iris_setosa_df[\"długość płatka (petal length)\"].describe()"
   ]
  },
  {
   "cell_type": "markdown",
   "metadata": {},
   "source": [
    "**Wnioski cząstkowe dla serii danych 'długość płatka (petal length)'**\n",
    "- **kształt rozkładu:** Symetryczny kształt rozkładu sugeruje, że dane są rozłożone dość równomiernie wokół wartości centralnych. Nie ma wyraźnej tendencji do skupiania się wartości po jednej ze stron średniej. \n",
    "- **wartości centralne:** Choć występuje niewielkie odchylenie między średnią a medianą, jest ono bardzo małe (0,04). To sugeruje, że rozkład jest bliski symetrycznemu i nie ma znaczących asymetrii. Rozkład jednomodalny oznacza to, że najczęściej występującą wartością jest tylko jedna.\n",
    "- **rozproszenie danych** Niewielki zakres danych (min 1,00 / max 1,90) oraz odchylenie standardowe (std 0,17) wskazują na niskie rozproszenie wartości. Oznacza to, że wartości są dość zbliżone do siebie i skupione wokół wartości centralnych. Występuje jedna luka w wartościach."
   ]
  },
  {
   "cell_type": "code",
   "execution_count": 164,
   "metadata": {},
   "outputs": [
    {
     "data": {
      "text/plain": [
       "count    50.00000\n",
       "mean      0.24400\n",
       "std       0.10721\n",
       "min       0.10000\n",
       "25%       0.20000\n",
       "50%       0.20000\n",
       "75%       0.30000\n",
       "max       0.60000\n",
       "Name: szerokość płatka (petal width), dtype: float64"
      ]
     },
     "execution_count": 164,
     "metadata": {},
     "output_type": "execute_result"
    },
    {
     "data": {
      "image/png": "[encoded data removed]",
      "text/plain": [
       "<Figure size 640x480 with 1 Axes>"
      ]
     },
     "metadata": {},
     "output_type": "display_data"
    }
   ],
   "source": [
    "Iris_setosa_df[\"szerokość płatka (petal width)\"].hist(bins=50, legend=True)\n",
    "Iris_setosa_df[\"szerokość płatka (petal width)\"].describe()"
   ]
  },
  {
   "cell_type": "markdown",
   "metadata": {},
   "source": [
    "**Wnioski cząstkowe dla serii danych 'szerokość płatka (petal width)'**\n",
    "- **kształt rozkładu:** Fakt, że rozkład jest skośny prawostronnie oznacza, że większość wartości skupiona jest w lewej części rozkładu, a \"ogon\" rozciąga się w prawo. Innymi słowy, występuje więcej niskich wartości niż wysokich, a kilka wyjątkowo wysokich wartości wpływa na średnią, przesuwając ją w prawo w stosunku do mediany. \n",
    "- **wartości centralne:** Różnica między średnią (0,24) a medianą (0,20) potwierdza skośność prawostronną. Średnia, która jest bardziej wrażliwa na wartości odstające, jest przesunięta w prawo w stosunku do mediany, która jest bardziej odporna na takie wartości. Rozkład jednomodalny oznacza to, że najczęściej występującą wartością jest tylko jedna. \n",
    "- **rozproszenie danych** Zakres danych (min 0,1 / max 0,6) i odchylenie standardowe (std 0,11) wskazują na średnie rozproszenie wartości. Oznacza to, że wartości są dość zróżnicowane, ale nie w sposób ekstremalny. Większość obserwacji skupia się wokół wartości centralnych, jednak występują również wartości bardziej oddalone. Brak luk w wartościach."
   ]
  },
  {
   "cell_type": "markdown",
   "metadata": {},
   "source": [
    "**Wnioski z analizy kategorii 'Iris-setosa'**\n",
    "- 'układ rozkładu' dla 3 na 4 zmiennych przyjmuje kształt symetrycznylub zbliżony do niego, co oznacza, że nie ma lub występują sporadycznie wartości, które znacząco odbiegają od większości danych.\n",
    "- 'wartości centralne' dla 3 na 4 zmiennych nie notują znaczących odchyleń, co oznacza, że dane są dość jednorodne i skupione wokół pewnej centralnej wartości. Innymi słowy, większość obserwacji jest zbliżona do średniej, mediany lub mody.\n",
    "- 'rozproszenie danych' dla 3 na 4 zmiennych wskazują na niski współczynnik rozporszenia, co oznacza, że dane w zbiorze są dość jednorodne i skupione wokół pewnej wartości centralnej.\n",
    "- w 3 na 4 zmiennych występują luki w wartościach, w tym w 2 zmiennych są to braki pojedynczych wartości\n",
    "\n",
    "*Uwaga - Z racji na fakt iż w 'kształcie rozkładu', 'wartościach centralne' i 'rozproszeniu danych' nie wystąpują znaczące anomalie należy przyjąć, że dane w zbiorze są poprawne. Przyczyną występujących braków wartości nie może być ograniczenia skali pomiarowej, gdyż braki występują w skalach większych. Jedynym tłumaczeniem przyczyny wystąpienia braków jest specyfika badanej populacji.*"
   ]
  },
  {
   "cell_type": "code",
   "execution_count": 151,
   "metadata": {},
   "outputs": [
    {
     "name": "stdout",
     "output_type": "stream",
     "text": [
      "\u001b[1mCharakterystyka przedmiotu analizy\u001b[0m\n"
     ]
    },
    {
     "data": {
      "text/html": [
       "<div>\n",
       "<style scoped>\n",
       "    .dataframe tbody tr th:only-of-type {\n",
       "        vertical-align: middle;\n",
       "    }\n",
       "\n",
       "    .dataframe tbody tr th {\n",
       "        vertical-align: top;\n",
       "    }\n",
       "\n",
       "    .dataframe thead th {\n",
       "        text-align: right;\n",
       "    }\n",
       "</style>\n",
       "<table border=\"1\" class=\"dataframe\">\n",
       "  <thead>\n",
       "    <tr style=\"text-align: right;\">\n",
       "      <th></th>\n",
       "      <th>długość kielicha (sepal length)</th>\n",
       "      <th>szerokość kielicha (sepal width)</th>\n",
       "      <th>długość płatka (petal length)</th>\n",
       "      <th>szerokość płatka (petal width)</th>\n",
       "    </tr>\n",
       "  </thead>\n",
       "  <tbody>\n",
       "    <tr>\n",
       "      <th>min</th>\n",
       "      <td>4.3</td>\n",
       "      <td>2.3</td>\n",
       "      <td>1.0</td>\n",
       "      <td>0.1</td>\n",
       "    </tr>\n",
       "    <tr>\n",
       "      <th>max</th>\n",
       "      <td>5.8</td>\n",
       "      <td>4.4</td>\n",
       "      <td>1.9</td>\n",
       "      <td>0.6</td>\n",
       "    </tr>\n",
       "    <tr>\n",
       "      <th>median</th>\n",
       "      <td>5.0</td>\n",
       "      <td>3.4</td>\n",
       "      <td>1.5</td>\n",
       "      <td>0.2</td>\n",
       "    </tr>\n",
       "  </tbody>\n",
       "</table>\n",
       "</div>"
      ],
      "text/plain": [
       "        długość kielicha (sepal length)  szerokość kielicha (sepal width)  \\\n",
       "min                                 4.3                               2.3   \n",
       "max                                 5.8                               4.4   \n",
       "median                              5.0                               3.4   \n",
       "\n",
       "        długość płatka (petal length)  szerokość płatka (petal width)  \n",
       "min                               1.0                             0.1  \n",
       "max                               1.9                             0.6  \n",
       "median                            1.5                             0.2  "
      ]
     },
     "execution_count": 151,
     "metadata": {},
     "output_type": "execute_result"
    }
   ],
   "source": [
    "print(\"\\033[1mCharakterystyka przedmiotu analizy\\033[0m\")\n",
    "Iris_setosa_df[[\"długość kielicha (sepal length)\", \"szerokość kielicha (sepal width)\", \"długość płatka (petal length)\", \"szerokość płatka (petal width)\"]].agg([\"min\", \"max\", \"median\"])"
   ]
  },
  {
   "cell_type": "markdown",
   "metadata": {},
   "source": [
    "### Kategoria 'Iris-versicolor'"
   ]
  },
  {
   "cell_type": "code",
   "execution_count": 171,
   "metadata": {},
   "outputs": [],
   "source": [
    "Iris_versicolor_df = df[df[\"klasa (class)\"] == \"Iris-versicolor\"]"
   ]
  },
  {
   "cell_type": "code",
   "execution_count": 172,
   "metadata": {},
   "outputs": [
    {
     "data": {
      "text/plain": [
       "count    50.000000\n",
       "mean      5.936000\n",
       "std       0.516171\n",
       "min       4.900000\n",
       "25%       5.600000\n",
       "50%       5.900000\n",
       "75%       6.300000\n",
       "max       7.000000\n",
       "Name: długość kielicha (sepal length), dtype: float64"
      ]
     },
     "execution_count": 172,
     "metadata": {},
     "output_type": "execute_result"
    },
    {
     "data": {
      "image/png": "[encoded data removed]",
      "text/plain": [
       "<Figure size 640x480 with 1 Axes>"
      ]
     },
     "metadata": {},
     "output_type": "display_data"
    }
   ],
   "source": [
    "Iris_versicolor_df[\"długość kielicha (sepal length)\"].hist(bins=50, legend=True)\n",
    "Iris_versicolor_df[\"długość kielicha (sepal length)\"].describe()"
   ]
  },
  {
   "cell_type": "markdown",
   "metadata": {},
   "source": [
    "**Wnioski cząstkowe dla serii danych 'długość kielicha (sepal length)'**\n",
    "- **kształt rozkładu:** Rozkład jest zbliżony do symetrycznego. Na podstawie podanych kwartyli możemy wnioskować o symetrii rozkładu, gdzie różnica między medianą a pierwszym kwartylem: 5.9 - 5.6 = 0.3 a różnica między trzecim kwartylem a medianą: 6.3 - 5.9 = 0.4\n",
    "- **wartości centralne:** Wartości średniej arytmetycznej (5.93) i mediany (5.90) są bardzo zbliżone, co potwierdza symetrię rozkładu. Oznacza to, że większość obserwacji skupia się wokół wartości 5.9. Rozkład multimodalny sugeruje, że w danych występuje kilka skupień wartości, czyli wartości skupiają się wokół kilku różnych punktów. To może wskazywać na heterogeniczność badanej grupy lub występowanie kilku różnych podgrup.\n",
    "- **rozproszenie danych** Odchylenie standardowe (0,52) jest stosunkowo małe. To oznacza, że wartości obserwacji są dość blisko siebie skupione, czyli rozkład jest wąski. Rozstęp (7.0 - 4.9 = 2.1) i rozstęp międzykwartylowy (6.3 - 5.6 = 0.7) wskazują, że wskazuje, że środkowe 50% danych jest dość ściśle skupionych. Występuje jeden brak wartości."
   ]
  },
  {
   "cell_type": "code",
   "execution_count": 157,
   "metadata": {},
   "outputs": [
    {
     "data": {
      "text/plain": [
       "count    50.000000\n",
       "mean      2.770000\n",
       "std       0.313798\n",
       "min       2.000000\n",
       "25%       2.525000\n",
       "50%       2.800000\n",
       "75%       3.000000\n",
       "max       3.400000\n",
       "Name: szerokość kielicha (sepal width), dtype: float64"
      ]
     },
     "execution_count": 157,
     "metadata": {},
     "output_type": "execute_result"
    },
    {
     "data": {
      "image/png": "[encoded data removed]",
      "text/plain": [
       "<Figure size 640x480 with 1 Axes>"
      ]
     },
     "metadata": {},
     "output_type": "display_data"
    }
   ],
   "source": [
    "Iris_versicolor_df[\"szerokość kielicha (sepal width)\"].hist(bins=50, legend=True)\n",
    "Iris_versicolor_df[\"szerokość kielicha (sepal width)\"].describe()"
   ]
  },
  {
   "cell_type": "markdown",
   "metadata": {},
   "source": [
    "**Wnioski cząstkowe dla serii danych 'szerokość kielicha (sepal width)'**\n",
    "- **kształt rozkładu:** Mediana (2.8) jest bardzo bliska średniej (2.77), co sugeruje, że rozkład jest prawdopodobnie dość symetryczny. Różnica między kwartylami (Q3 - Q1 = 0.475) jest stosunkowo niewielka, co dodatkowo potwierdza symetrię. \n",
    "- **wartości centralne:** Zarówno średnia (2.77), jak i mediana (2,8) przyjmują bardzo zbliżone wartości, co ponownie potwierdza symetrię rozkładu. Wartość centralna danych wynosi około 2.77-2.8.\n",
    "Rozkład jest jednomodalny co oznacza, że istnieje jedno wyraźne skupienie wartości, czyli jeden \"szczyt\" w rozkładzie. Nie obserwujemy dodatkowych skupień danych.\n",
    "- **rozproszenie danych** Rozproszenie danych jest stosunkowo niewielkie, co sugeruje, że większość obserwacji skupia się wokół wartości centralnej. Odchylenie standardowe (0.32) jest mniejsze niż 1, co dodatkowo potwierdza, że dane są dość ściśle skupione wokół średniej. Występuje jeden brak wartości."
   ]
  },
  {
   "cell_type": "code",
   "execution_count": 158,
   "metadata": {},
   "outputs": [
    {
     "data": {
      "text/plain": [
       "count    50.000000\n",
       "mean      4.260000\n",
       "std       0.469911\n",
       "min       3.000000\n",
       "25%       4.000000\n",
       "50%       4.350000\n",
       "75%       4.600000\n",
       "max       5.100000\n",
       "Name: długość płatka (petal length), dtype: float64"
      ]
     },
     "execution_count": 158,
     "metadata": {},
     "output_type": "execute_result"
    },
    {
     "data": {
      "image/png": "[encoded data removed]",
      "text/plain": [
       "<Figure size 640x480 with 1 Axes>"
      ]
     },
     "metadata": {},
     "output_type": "display_data"
    }
   ],
   "source": [
    "Iris_versicolor_df[\"długość płatka (petal length)\"].hist(bins=50, legend=True)\n",
    "Iris_versicolor_df[\"długość płatka (petal length)\"].describe()"
   ]
  },
  {
   "cell_type": "markdown",
   "metadata": {},
   "source": [
    "**Wnioski cząstkowe dla serii danych 'długość płatka (petal length)'**\n",
    "- **kształt rozkładu:** Rozkład danych jest zbliżony do symetrycznego, z lekką tendencją do prawostronności. Mediana (4.35) jest nieco większa od średniej (4.26). To sugeruje, że rozkład danych może być lekko prawostronny (tzn. dłuższy ogon rozciąga się w kierunku wartości większych). Różnica między kwartylami (IQR = Q3 - Q1 = 0.6) jest stosunkowo niewielka w porównaniu do całego zakresu danych (5.1 - 3.0 = 2.1). To wskazuje na umiarkowane rozproszenie danych wokół mediany.\n",
    "- **wartości centralne:** Zarówno średnia, jak i mediana wskazują, że większość wartości skupia się wokół 4.26 - 4.35. Rozkład jednomodalny oznacza, że w danych występuje tylko jeden wyraźny szczyt, czyli jedno najczęstsze wystąpienie wartości.\n",
    "- **rozproszenie danych** Dane są stosunkowo mało rozproszone, większość wartości skupia się w niewielkim przedziale wokół średniej. Występują 3 braki wartości."
   ]
  },
  {
   "cell_type": "code",
   "execution_count": 159,
   "metadata": {},
   "outputs": [
    {
     "data": {
      "text/plain": [
       "count    50.000000\n",
       "mean      1.326000\n",
       "std       0.197753\n",
       "min       1.000000\n",
       "25%       1.200000\n",
       "50%       1.300000\n",
       "75%       1.500000\n",
       "max       1.800000\n",
       "Name: szerokość płatka (petal width), dtype: float64"
      ]
     },
     "execution_count": 159,
     "metadata": {},
     "output_type": "execute_result"
    },
    {
     "data": {
      "image/png": "[encoded data removed]",
      "text/plain": [
       "<Figure size 640x480 with 1 Axes>"
      ]
     },
     "metadata": {},
     "output_type": "display_data"
    }
   ],
   "source": [
    "Iris_versicolor_df[\"szerokość płatka (petal width)\"].hist(bins=50, legend=True)\n",
    "Iris_versicolor_df[\"szerokość płatka (petal width)\"].describe()"
   ]
  },
  {
   "cell_type": "markdown",
   "metadata": {},
   "source": [
    "**Wnioski cząstkowe dla serii danych 'szerokość płatka (petal width)'**\n",
    "- **kształt rozkładu:** Rozkład danych jest zbliżony do symetrycznego. Różnica między średnią a medianą jest niewielka, co sugeruje, że rozkład jest w przybliżeniu symetryczny. Odległości między kwartylami są zbliżone, co dodatkowo potwierdza symetrię.\n",
    "- **wartości centralne:** Średnia (1,32) oraz mediana (1,30) są do siebie bardzo zbliżone, co potwierdza symetrię rozkładu. Rozkład jednomodalny wskazuje, że istnieje jedna wartość, która występuje najczęściej.\n",
    "- **rozproszenie danych** Dane są stosunkowo mało rozproszone wokół średniej. Większość wartości skupia się w niewielkim przedziale. Nie występują braki w wartościach."
   ]
  },
  {
   "cell_type": "markdown",
   "metadata": {},
   "source": [
    "**Wnioski z analizy kategorii 'Iris-setosa'**\n",
    "- 'układ rozkładu' dla wszystkich zmiennych przyjmuje kształt symetryczny lub zbliżony do niego, co oznacza, że nie ma lub występują sporadycznie wartości, które znacząco odbiegają od większości danych.\n",
    "- 'wartości centralne' dla wszystkich zmiennych nie notują znaczących odchyleń, co oznacza, że dane są dość jednorodne i skupione wokół pewnej centralnej wartości. Innymi słowy, większość obserwacji jest zbliżona do średniej, mediany lub mody.\n",
    "- 'rozproszenie danych' dla wszystkich zmiennych wskazuje na niski współczynnik rozporszenia, co oznacza, że dane w zbiorze są dość jednorodne i skupione wokół pewnej wartości centralnej \n",
    "- w 3 na 4 zmiennych występują luki w wartościach, w tym w 2 zmiennych są to braki pojedynczych wartości\n",
    "- *Jednakże z racji na fakt iż w 'kształcie rozkładu', 'wartościach centralne' i 'rozproszeniu danych' nie wystąpują znaczące anomalie należy przyjąć, że dane w zbiorze są poprawne. Przyczyną występujących braków wartości mogą być ograniczenia skali pomiarowej oraz specyfika badanej populacji* "
   ]
  },
  {
   "cell_type": "code",
   "execution_count": 149,
   "metadata": {},
   "outputs": [
    {
     "name": "stdout",
     "output_type": "stream",
     "text": [
      "\u001b[1mCharakterystyka przedmiotu analizy\u001b[0m\n"
     ]
    },
    {
     "data": {
      "text/html": [
       "<div>\n",
       "<style scoped>\n",
       "    .dataframe tbody tr th:only-of-type {\n",
       "        vertical-align: middle;\n",
       "    }\n",
       "\n",
       "    .dataframe tbody tr th {\n",
       "        vertical-align: top;\n",
       "    }\n",
       "\n",
       "    .dataframe thead th {\n",
       "        text-align: right;\n",
       "    }\n",
       "</style>\n",
       "<table border=\"1\" class=\"dataframe\">\n",
       "  <thead>\n",
       "    <tr style=\"text-align: right;\">\n",
       "      <th></th>\n",
       "      <th>długość kielicha (sepal length)</th>\n",
       "      <th>szerokość kielicha (sepal width)</th>\n",
       "      <th>długość płatka (petal length)</th>\n",
       "      <th>szerokość płatka (petal width)</th>\n",
       "    </tr>\n",
       "  </thead>\n",
       "  <tbody>\n",
       "    <tr>\n",
       "      <th>min</th>\n",
       "      <td>4.9</td>\n",
       "      <td>2.0</td>\n",
       "      <td>3.00</td>\n",
       "      <td>1.0</td>\n",
       "    </tr>\n",
       "    <tr>\n",
       "      <th>max</th>\n",
       "      <td>7.0</td>\n",
       "      <td>3.4</td>\n",
       "      <td>5.10</td>\n",
       "      <td>1.8</td>\n",
       "    </tr>\n",
       "    <tr>\n",
       "      <th>median</th>\n",
       "      <td>5.9</td>\n",
       "      <td>2.8</td>\n",
       "      <td>4.35</td>\n",
       "      <td>1.3</td>\n",
       "    </tr>\n",
       "  </tbody>\n",
       "</table>\n",
       "</div>"
      ],
      "text/plain": [
       "        długość kielicha (sepal length)  szerokość kielicha (sepal width)  \\\n",
       "min                                 4.9                               2.0   \n",
       "max                                 7.0                               3.4   \n",
       "median                              5.9                               2.8   \n",
       "\n",
       "        długość płatka (petal length)  szerokość płatka (petal width)  \n",
       "min                              3.00                             1.0  \n",
       "max                              5.10                             1.8  \n",
       "median                           4.35                             1.3  "
      ]
     },
     "execution_count": 149,
     "metadata": {},
     "output_type": "execute_result"
    }
   ],
   "source": [
    "print(\"\\033[1mCharakterystyka przedmiotu analizy\\033[0m\")\n",
    "Iris_versicolor_df[[\"długość kielicha (sepal length)\", \"szerokość kielicha (sepal width)\", \"długość płatka (petal length)\", \"szerokość płatka (petal width)\"]].agg([\"min\", \"max\", \"median\"])"
   ]
  },
  {
   "cell_type": "markdown",
   "metadata": {},
   "source": [
    "### Kategoria 'Iris-virginica'"
   ]
  },
  {
   "cell_type": "code",
   "execution_count": 175,
   "metadata": {},
   "outputs": [],
   "source": [
    "Iris_virginica_df = df[df[\"klasa (class)\"] == \"Iris-virginica\"]"
   ]
  },
  {
   "cell_type": "code",
   "execution_count": 176,
   "metadata": {},
   "outputs": [
    {
     "data": {
      "text/plain": [
       "count    50.00000\n",
       "mean      6.58800\n",
       "std       0.63588\n",
       "min       4.90000\n",
       "25%       6.22500\n",
       "50%       6.50000\n",
       "75%       6.90000\n",
       "max       7.90000\n",
       "Name: długość kielicha (sepal length), dtype: float64"
      ]
     },
     "execution_count": 176,
     "metadata": {},
     "output_type": "execute_result"
    },
    {
     "data": {
      "image/png": "[encoded data removed]",
      "text/plain": [
       "<Figure size 640x480 with 1 Axes>"
      ]
     },
     "metadata": {},
     "output_type": "display_data"
    }
   ],
   "source": [
    "Iris_virginica_df[\"długość kielicha (sepal length)\"].hist(bins=50, legend=True)\n",
    "Iris_virginica_df[\"długość kielicha (sepal length)\"].describe()"
   ]
  },
  {
   "cell_type": "markdown",
   "metadata": {},
   "source": [
    "**Wnioski cząstkowe dla serii danych 'długość kielicha (sepal length)'**\n",
    "- **kształt rozkładu:** Rozkład zbliżony do symetrycznego. Potwierdzeniem tego są różnice między kwartylami: 75% kwartyl - 25% kwartyl = 6.9 - 6.225 = 0.675 oraz różnica między medianą a kwartylami: Mediana - 25% kwartyl = 6.5 - 6.225 = 0.275 / 75% kwartyl - Mediana = 6.9 - 6.5 = 0.4.\n",
    "- **wartości centralne:** Średnia (6.59) i mediana (6.5) są do siebie bardzo zbliżone, co  dodatkowo potwierdza przypuszczenie o symetrycznym rozkładzie.\n",
    "- **rozproszenie danych** Dane są stosunkowo mało rozproszone, co oznacza, że większość obserwacji znajduje się w stosunkowo wąskim przedziale wartości. Występują nieregularne luki w wartościach."
   ]
  },
  {
   "cell_type": "code",
   "execution_count": 178,
   "metadata": {},
   "outputs": [
    {
     "data": {
      "text/plain": [
       "count    50.000000\n",
       "mean      2.974000\n",
       "std       0.322497\n",
       "min       2.200000\n",
       "25%       2.800000\n",
       "50%       3.000000\n",
       "75%       3.175000\n",
       "max       3.800000\n",
       "Name: szerokość kielicha (sepal width), dtype: float64"
      ]
     },
     "execution_count": 178,
     "metadata": {},
     "output_type": "execute_result"
    },
    {
     "data": {
      "image/png": "[encoded data removed]",
      "text/plain": [
       "<Figure size 640x480 with 1 Axes>"
      ]
     },
     "metadata": {},
     "output_type": "display_data"
    }
   ],
   "source": [
    "Iris_virginica_df[\"szerokość kielicha (sepal width)\"].hist(bins=50, legend=True)\n",
    "Iris_virginica_df[\"szerokość kielicha (sepal width)\"].describe()"
   ]
  },
  {
   "cell_type": "markdown",
   "metadata": {},
   "source": [
    "**Wnioski cząstkowe dla serii danych 'szerokość kielicha (sepal width)'**\n",
    "- **kształt rozkładu:** Rozkład zbliżony do symetrycznego. Średnia i mediana są do siebie bardzo zbliżone (2.97 vs 3.00), co sugeruje, że rozkład prawdopodobieństwa jest prawdopodobnie symetryczny lub lekko skośny w prawo. Odchylenie standardowe jest stosunkowo małe (0.322), co wskazuje, że większość danych skupiona jest wokół wartości średniej. Różnica między kwartylami (75% - 25% = 0.375) jest podobna do odchylenia standardowego, co dodatkowo potwierdza symetryczny charakter rozkładu.\n",
    "- **wartości centralne:** Średnia (2.97) i mediana (3.00) są do siebie bardzo zbliżone, co oznacza, że większość obserwacji skupiona jest wokół wartości 3. Nie ma znaczących odchyleń od średniej.\n",
    "- **rozproszenie danych** Dane są stosunkowo mało rozproszone, co sugeruje, że badana cecha jest dość jednorodna wśród obserwacji. Występują nieregularne pojedyncze luki w wartościach."
   ]
  },
  {
   "cell_type": "code",
   "execution_count": 180,
   "metadata": {},
   "outputs": [
    {
     "data": {
      "text/plain": [
       "count    50.000000\n",
       "mean      5.552000\n",
       "std       0.551895\n",
       "min       4.500000\n",
       "25%       5.100000\n",
       "50%       5.550000\n",
       "75%       5.875000\n",
       "max       6.900000\n",
       "Name: długość płatka (petal length), dtype: float64"
      ]
     },
     "execution_count": 180,
     "metadata": {},
     "output_type": "execute_result"
    },
    {
     "data": {
      "image/png": "[encoded data removed]",
      "text/plain": [
       "<Figure size 640x480 with 1 Axes>"
      ]
     },
     "metadata": {},
     "output_type": "display_data"
    }
   ],
   "source": [
    "Iris_virginica_df[\"długość płatka (petal length)\"].hist(bins=50, legend=True)\n",
    "Iris_virginica_df[\"długość płatka (petal length)\"].describe()"
   ]
  },
  {
   "cell_type": "markdown",
   "metadata": {},
   "source": [
    "**Wnioski cząstkowe dla serii danych 'długość płatka (petal length)'**\n",
    "- **kształt rozkładu:** Rozkład zbliżony do symetrycznego. Średnia ≈ Mediana sugeruje, że rozkład danych jest prawdopodobnie symetryczny. Odchylenie standardowe stosunkowo małe w porównaniu do zakresu wskazuje na umiarkowane rozproszenie danych wokół średniej.\n",
    "- **wartości centralne:** Brak znaczącej różnicy między średnią a medianą potwierdza symetrię rozkładu. Centralna tendencja danych koncentruje się wokół wartości 5.55.\n",
    "- **rozproszenie danych** Dane są stosunkowo ściśle skupione wokół średniej, co wskazuje na niewielkie rozproszenie. Występują nieregularne pojedyncze luki w wartościach."
   ]
  },
  {
   "cell_type": "code",
   "execution_count": 181,
   "metadata": {},
   "outputs": [
    {
     "data": {
      "text/plain": [
       "count    50.00000\n",
       "mean      2.02600\n",
       "std       0.27465\n",
       "min       1.40000\n",
       "25%       1.80000\n",
       "50%       2.00000\n",
       "75%       2.30000\n",
       "max       2.50000\n",
       "Name: szerokość płatka (petal width), dtype: float64"
      ]
     },
     "execution_count": 181,
     "metadata": {},
     "output_type": "execute_result"
    },
    {
     "data": {
      "image/png": "[encoded data removed]",
      "text/plain": [
       "<Figure size 640x480 with 1 Axes>"
      ]
     },
     "metadata": {},
     "output_type": "display_data"
    }
   ],
   "source": [
    "Iris_virginica_df[\"szerokość płatka (petal width)\"].hist(bins=50, legend=True)\n",
    "Iris_virginica_df[\"szerokość płatka (petal width)\"].describe()"
   ]
  },
  {
   "cell_type": "markdown",
   "metadata": {},
   "source": [
    "**Wnioski cząstkowe dla serii danych 'szerokość płatka (petal width)'**\n",
    "- **kształt rozkładu:** Rozkład zbliżony do symetrycznego. Różnica między średnią a medianą jest niewielka (2.026 - 2.0 = 0.026), co sugeruje, że rozkład jest dość symetryczny. Różnica między kwartylami (Q3 - Q1 = 2.3 - 1.8 = 0.5) jest stosunkowo niewielka, co dodatkowo potwierdza symetrię.\n",
    "Odchylenie standardowe jest stosunkowo małe w porównaniu do zakresu danych, co wskazuje na niewielkie odchylenia od średniej.\n",
    "- **wartości centralne:** Zarówno średnia, jak i mediana przyjmują bardzo zbliżone wartości, co ponownie potwierdza symetrię rozkładu. Wartością centralną reprezentującą ten zbiór danych jest zarówno średnia, jak i mediana.\n",
    "- **rozproszenie danych** Rozproszenie danych jest niewielkie. Większość obserwacji skupiona jest w stosunkowo wąskim przedziale wokół wartości centralnej. Brak luk w wartościach."
   ]
  },
  {
   "cell_type": "markdown",
   "metadata": {},
   "source": [
    "**Wnioski z analizy kategorii 'Iris-setosa'**\n",
    "- 'układ rozkładu' dla wszystkich zmiennych przyjmuje kształt symetryczny lub zbliżony do niego, co oznacza, że nie ma lub występują sporadycznie wartości, które znacząco odbiegają od większości danych.\n",
    "- 'wartości centralne' dla wszystkich zmiennych nie notują znaczących odchyleń, co oznacza, że dane są dość jednorodne i skupione wokół pewnej centralnej wartości. Innymi słowy, większość obserwacji jest zbliżona do średniej, mediany lub mody.\n",
    "- 'rozproszenie danych' dla wszystkich zmiennych wskazuje na niski współczynnik rozporszenia, co oznacza, że dane w zbiorze są dość jednorodne i skupione wokół pewnej wartości centralnej \n",
    "- w 3 na 4 zmiennych występują nieregularne luki w wartościach.\n",
    "- *Jednakże z racji na fakt iż w 'kształcie rozkładu', 'wartościach centralne' i 'rozproszeniu danych' nie wystąpują znaczące anomalie należy przyjąć, że dane w zbiorze są poprawne. Przyczyną występujących braków wartości może być specyfika badanej populacji* "
   ]
  },
  {
   "cell_type": "code",
   "execution_count": 182,
   "metadata": {},
   "outputs": [
    {
     "name": "stdout",
     "output_type": "stream",
     "text": [
      "\u001b[1mCharakterystyka przedmiotu analizy\u001b[0m\n"
     ]
    },
    {
     "data": {
      "text/html": [
       "<div>\n",
       "<style scoped>\n",
       "    .dataframe tbody tr th:only-of-type {\n",
       "        vertical-align: middle;\n",
       "    }\n",
       "\n",
       "    .dataframe tbody tr th {\n",
       "        vertical-align: top;\n",
       "    }\n",
       "\n",
       "    .dataframe thead th {\n",
       "        text-align: right;\n",
       "    }\n",
       "</style>\n",
       "<table border=\"1\" class=\"dataframe\">\n",
       "  <thead>\n",
       "    <tr style=\"text-align: right;\">\n",
       "      <th></th>\n",
       "      <th>długość kielicha (sepal length)</th>\n",
       "      <th>szerokość kielicha (sepal width)</th>\n",
       "      <th>długość płatka (petal length)</th>\n",
       "      <th>szerokość płatka (petal width)</th>\n",
       "    </tr>\n",
       "  </thead>\n",
       "  <tbody>\n",
       "    <tr>\n",
       "      <th>min</th>\n",
       "      <td>4.9</td>\n",
       "      <td>2.2</td>\n",
       "      <td>4.50</td>\n",
       "      <td>1.4</td>\n",
       "    </tr>\n",
       "    <tr>\n",
       "      <th>max</th>\n",
       "      <td>7.9</td>\n",
       "      <td>3.8</td>\n",
       "      <td>6.90</td>\n",
       "      <td>2.5</td>\n",
       "    </tr>\n",
       "    <tr>\n",
       "      <th>median</th>\n",
       "      <td>6.5</td>\n",
       "      <td>3.0</td>\n",
       "      <td>5.55</td>\n",
       "      <td>2.0</td>\n",
       "    </tr>\n",
       "  </tbody>\n",
       "</table>\n",
       "</div>"
      ],
      "text/plain": [
       "        długość kielicha (sepal length)  szerokość kielicha (sepal width)  \\\n",
       "min                                 4.9                               2.2   \n",
       "max                                 7.9                               3.8   \n",
       "median                              6.5                               3.0   \n",
       "\n",
       "        długość płatka (petal length)  szerokość płatka (petal width)  \n",
       "min                              4.50                             1.4  \n",
       "max                              6.90                             2.5  \n",
       "median                           5.55                             2.0  "
      ]
     },
     "execution_count": 182,
     "metadata": {},
     "output_type": "execute_result"
    }
   ],
   "source": [
    "print(\"\\033[1mCharakterystyka przedmiotu analizy\\033[0m\")\n",
    "Iris_virginica_df[[\"długość kielicha (sepal length)\", \"szerokość kielicha (sepal width)\", \"długość płatka (petal length)\", \"szerokość płatka (petal width)\"]].agg([\"min\", \"max\", \"median\"])"
   ]
  },
  {
   "cell_type": "markdown",
   "metadata": {},
   "source": [
    "# **Transformacja danych**"
   ]
  },
  {
   "cell_type": "markdown",
   "metadata": {},
   "source": [
    "**Wnioski z transformacji danych**\n",
    "- Zbiór danych jest kompletny, tj. nie wykazano brakujących wartości w seriach danych.\n",
    "- Występują luki w pomiarach (nie utożsamiać z brakiem danych) i zgodnie z powyższym wnioskowaniem przyczyną występujących braków wartości może być specyfika badanej populacji. Jednakże występujące luki nie wymagają uzupełnienia danych, gdyż taki proces wpłynął by na zniekształcenie wyników."
   ]
  },
  {
   "cell_type": "markdown",
   "metadata": {},
   "source": [
    "# **Analiza relacji między zmiennymi**"
   ]
  },
  {
   "cell_type": "markdown",
   "metadata": {},
   "source": [
    "## Analiza serii danych"
   ]
  },
  {
   "cell_type": "code",
   "execution_count": 267,
   "metadata": {},
   "outputs": [],
   "source": [
    "# Utworzenie DataFrame'ów dla zmiennych dla kategorii 'Iris-setosa'\n",
    "Iris_setosa_dlugosc_kielicha_df = Iris_setosa_df[[\"klasa (class)\", \"długość kielicha (sepal length)\"]]\n",
    "Iris_setosa_szerokosc_kielicha_df = Iris_setosa_df[[\"klasa (class)\", \"szerokość kielicha (sepal width)\"]]\n",
    "Iris_setosa_dlugosc_platka_df = Iris_setosa_df[[\"klasa (class)\", \"długość płatka (petal length)\"]]\n",
    "Iris_setosa_szerokosc_platka_df = Iris_setosa_df[[\"klasa (class)\", \"szerokość płatka (petal width)\"]]"
   ]
  },
  {
   "cell_type": "code",
   "execution_count": 268,
   "metadata": {},
   "outputs": [],
   "source": [
    "# Utworzenie DataFrame'ów dla zmiennych dla kategorii 'Iris-versicolor'\n",
    "Iris_versicolor_dlugosc_kielicha_df = Iris_versicolor_df[[\"klasa (class)\", \"długość kielicha (sepal length)\"]]\n",
    "Iris_versicolor_szerokosc_kielicha_df = Iris_versicolor_df[[\"klasa (class)\", \"szerokość kielicha (sepal width)\"]]\n",
    "Iris_versicolor_dlugosc_platka_df = Iris_versicolor_df[[\"klasa (class)\", \"długość płatka (petal length)\"]]\n",
    "Iris_versicolor_szerokosc_platka_df = Iris_versicolor_df[[\"klasa (class)\", \"szerokość płatka (petal width)\"]]"
   ]
  },
  {
   "cell_type": "code",
   "execution_count": 269,
   "metadata": {},
   "outputs": [],
   "source": [
    "# Utworzenie DataFrame'ów dla zmiennych dla kategorii 'Iris-virginica'\n",
    "Iris_virginica_dlugosc_kielicha_df = Iris_virginica_df[[\"klasa (class)\", \"długość kielicha (sepal length)\"]]\n",
    "Iris_virginica_szerokosc_kielicha_df = Iris_virginica_df[[\"klasa (class)\", \"szerokość kielicha (sepal width)\"]]\n",
    "Iris_virginica_dlugosc_platka_df = Iris_virginica_df[[\"klasa (class)\", \"długość płatka (petal length)\"]]\n",
    "Iris_virginica_szerokosc_platka_df = Iris_virginica_df[[\"klasa (class)\", \"szerokość płatka (petal width)\"]]"
   ]
  },
  {
   "cell_type": "code",
   "execution_count": 270,
   "metadata": {},
   "outputs": [],
   "source": [
    "# Utworzenie DataFrame'ów dla zmiennych dla wszystkich kategorii\n",
    "wg_kategorii_dlugosc_kielicha_df = pd.concat([Iris_setosa_dlugosc_kielicha_df, Iris_versicolor_dlugosc_kielicha_df, Iris_virginica_dlugosc_kielicha_df], ignore_index=True)\n",
    "wg_kategorii_szerokosc_kielicha_df = pd.concat([Iris_setosa_szerokosc_kielicha_df, Iris_versicolor_szerokosc_kielicha_df, Iris_virginica_szerokosc_kielicha_df], ignore_index=True)\n",
    "wg_kategorii_dlugosc_platka_df = pd.concat([Iris_setosa_dlugosc_platka_df, Iris_versicolor_dlugosc_platka_df, Iris_virginica_dlugosc_platka_df], ignore_index=True)\n",
    "wg_kategorii_szerokosc_platka_df = pd.concat([Iris_setosa_szerokosc_platka_df, Iris_versicolor_szerokosc_platka_df, Iris_virginica_szerokosc_platka_df], ignore_index=True)"
   ]
  },
  {
   "cell_type": "code",
   "execution_count": 275,
   "metadata": {},
   "outputs": [
    {
     "data": {
      "text/plain": [
       "<Axes: xlabel='klasa (class)', ylabel='długość kielicha (sepal length)'>"
      ]
     },
     "execution_count": 275,
     "metadata": {},
     "output_type": "execute_result"
    },
    {
     "data": {
      "image/png": "[encoded data removed]",
      "text/plain": [
       "<Figure size 640x480 with 1 Axes>"
      ]
     },
     "metadata": {},
     "output_type": "display_data"
    }
   ],
   "source": [
    "# Wykres punktowy dla zmiennej 'długość kielicha (sepal length)' wg kategorii\n",
    "wg_kategorii_dlugosc_kielicha_df.plot(kind=\"scatter\", x=\"klasa (class)\", y=\"długość kielicha (sepal length)\")"
   ]
  },
  {
   "cell_type": "markdown",
   "metadata": {},
   "source": [
    "**Wnioski cząstkowe dla dla zmiennej 'długość kielicha (sepal length)' wg kategorii**\n",
    "- Wymiary długości kielicha 'Iris-setosa' (min 4.3 / max 5.8) są najmniejsze zarówno pod względem  zakresu (1,5), jak też pod względem wymiarów wartości skrajnych\n",
    "- Wymiary długości kielicha 'Iris-versicolor' (min 4.9 / max 7.0) są średnie zarówno pod względem zakresu (2.1), jak też pod względem wymiarów wartości skrajnych\n",
    "- Wymiary długości kielicha 'Iris-virginica' (min 4.9 / max 7.9) są największe zarówno pod względem zakresu (3.0), jak też pod względem wymiarów wartości skrajnych"
   ]
  },
  {
   "cell_type": "code",
   "execution_count": 276,
   "metadata": {},
   "outputs": [
    {
     "data": {
      "text/plain": [
       "<Axes: xlabel='klasa (class)', ylabel='szerokość kielicha (sepal width)'>"
      ]
     },
     "execution_count": 276,
     "metadata": {},
     "output_type": "execute_result"
    },
    {
     "data": {
      "image/png": "[encoded data removed]",
      "text/plain": [
       "<Figure size 640x480 with 1 Axes>"
      ]
     },
     "metadata": {},
     "output_type": "display_data"
    }
   ],
   "source": [
    "# Wykres punktowy dla zmiennej 'szerokość kielicha (sepal width)' wg kategorii\n",
    "wg_kategorii_szerokosc_kielicha_df.plot(kind=\"scatter\", x=\"klasa (class)\", y=\"szerokość kielicha (sepal width)\")"
   ]
  },
  {
   "cell_type": "markdown",
   "metadata": {},
   "source": [
    "**Wnioski cząstkowe dla dla zmiennej 'szerokość kielicha (sepal width)' wg kategorii**\n",
    "- Wymiary szerokości kielicha 'Iris-setosa' (min 2.3 / max 4.4) są największe zarówno pod względem  zakresu (2.1), jak też pod względem wymiarów wartości skrajnych\n",
    "- Wymiary szerokości kielicha 'Iris-versicolor' (min 2.0 / max 3.4) są najmniejsze zarówno pod względem zakresu (1.4, jak też pod względem wymiarów wartości skrajnych\n",
    "- Wymiary szerokości kielicha 'Iris-virginica' (min 2.2 / max 3.8) są średnie zarówno pod względem zakresu (1.6), jak też pod względem wymiarów wartości skrajnych"
   ]
  },
  {
   "cell_type": "code",
   "execution_count": 273,
   "metadata": {},
   "outputs": [
    {
     "data": {
      "text/plain": [
       "<Axes: xlabel='klasa (class)', ylabel='długość płatka (petal length)'>"
      ]
     },
     "execution_count": 273,
     "metadata": {},
     "output_type": "execute_result"
    },
    {
     "data": {
      "image/png": "[encoded data removed]",
      "text/plain": [
       "<Figure size 640x480 with 1 Axes>"
      ]
     },
     "metadata": {},
     "output_type": "display_data"
    }
   ],
   "source": [
    "# Wykres punktowy dla zmiennej 'długość płatka (petal length)' wg kategorii\n",
    "wg_kategorii_dlugosc_platka_df.plot(kind=\"scatter\", x=\"klasa (class)\", y=\"długość płatka (petal length)\")"
   ]
  },
  {
   "cell_type": "markdown",
   "metadata": {},
   "source": [
    "**Wnioski cząstkowe dla dla zmiennej 'długość płatka (petal length)' wg kategorii**\n",
    "- Wymiary długości płatka 'Iris-setosa' (min 1.0 / max 1.9) są najmniejsze zarówno pod względem  zakresu (0.9), jak też pod względem wymiarów wartości skrajnych\n",
    "- Wymiary długości płatka 'Iris-versicolor' (min 3.0 / max 5.1) są średnie zarówno pod względem zakresu (2.1), jak też pod względem wymiarów wartości skrajnych\n",
    "- Wymiary długości płatka 'Iris-virginica' (min 4.5 / max 6.9) są największe zarówno pod względem zakresu (2.4), jak też pod względem wymiarów wartości skrajnych"
   ]
  },
  {
   "cell_type": "code",
   "execution_count": 274,
   "metadata": {},
   "outputs": [
    {
     "data": {
      "text/plain": [
       "<Axes: xlabel='klasa (class)', ylabel='szerokość płatka (petal width)'>"
      ]
     },
     "execution_count": 274,
     "metadata": {},
     "output_type": "execute_result"
    },
    {
     "data": {
      "image/png": "[encoded data removed]",
      "text/plain": [
       "<Figure size 640x480 with 1 Axes>"
      ]
     },
     "metadata": {},
     "output_type": "display_data"
    }
   ],
   "source": [
    "# Wykres punktowy dla zmiennej 'szerokość płatka (petal width)' wg kategorii\n",
    "wg_kategorii_szerokosc_platka_df.plot(kind=\"scatter\", x=\"klasa (class)\", y=\"szerokość płatka (petal width)\")"
   ]
  },
  {
   "cell_type": "markdown",
   "metadata": {},
   "source": [
    "**Wnioski cząstkowe dla dla zmiennej 'szerokość płatka (petal width)' wg kategorii**\n",
    "- Wymiary szerokości płatka 'Iris-setosa' (min 0.1 / max 0.6) są najmniejsze zarówno pod względem  zakresu (0.5), jak też pod względem wymiarów wartości skrajnych\n",
    "- Wymiary szerokości płatka 'Iris-versicolor' (min 1.0 / max 1.8) są średnie zarówno pod względem zakresu (0.8), jak też pod względem wymiarów wartości skrajnych\n",
    "- Wymiary szerokości płatka 'Iris-virginica' (min 1.4 / max 2.5) są największe zarówno pod względem zakresu (1.1), jak też pod względem wymiarów wartości skrajnych"
   ]
  },
  {
   "cell_type": "markdown",
   "metadata": {},
   "source": [
    "**Wnioski z analizy serii danych**\n",
    "- 'Iris-setosa' charakteryzuje się najmniejszym zakresem wartości dla zmiennych 'długość kielicha (sepal length)', 'długość płatka (petal length)' i  'szerokość płatka (petal width)'. Natomiast dla zmiennej 'szerokość kielicha (sepal width)' charakteryzuje się największym zakresem wartości. Dodatkowym elementem charakterystycznym jest fakt iż zakres zmiennych 'długość płatka (petal length)' i 'szerokość płatka (petal width)' występuje poza zakresem wartości dla pozostałych kategorii.\n",
    "- 'Iris-versicolor' charakteryzuje się średnim zakresem wartości dla zmiennych 'długość kielicha (sepal length)', 'długość płatka (petal length)' i 'szerokość płatka (petal width)'. Natomiast dla zmiennej 'szerokość kielicha (sepal width)' charakteryzuje się najmniejszym zakresem wartości\n",
    "- 'Iris-virginica' charakteryzuje się największym zakresem wartości dla zmiennych 'długość kielicha (sepal length)', 'długość płatka (petal length)' i 'szerokość płatka (petal width)'. Natomiast dla zmiennej 'szerokość kielicha (sepal width)' charakteryzuje się średnim zakresem wartości."
   ]
  },
  {
   "cell_type": "markdown",
   "metadata": {},
   "source": [
    "## Analiza danych wg kategorii"
   ]
  },
  {
   "cell_type": "markdown",
   "metadata": {},
   "source": [
    "### Kategoria 'Iris-setosa'"
   ]
  },
  {
   "cell_type": "code",
   "execution_count": 295,
   "metadata": {},
   "outputs": [
    {
     "data": {
      "text/plain": [
       "<Axes: xlabel='długość kielicha (sepal length)', ylabel='szerokość kielicha (sepal width)'>"
      ]
     },
     "execution_count": 295,
     "metadata": {},
     "output_type": "execute_result"
    },
    {
     "data": {
      "image/png": "[encoded data removed]",
      "text/plain": [
       "<Figure size 640x480 with 1 Axes>"
      ]
     },
     "metadata": {},
     "output_type": "display_data"
    }
   ],
   "source": [
    "# Wykres punktowy dla zmiennej 'długość kielicha (sepal length)' i 'szerokość kielicha (sepal width)' wg kategorii 'Iris-setosa'\n",
    "Iris_setosa_df.plot(kind=\"scatter\", x=\"długość kielicha (sepal length)\", y=\"szerokość kielicha (sepal width)\")"
   ]
  },
  {
   "cell_type": "code",
   "execution_count": 296,
   "metadata": {},
   "outputs": [
    {
     "data": {
      "text/html": [
       "<div>\n",
       "<style scoped>\n",
       "    .dataframe tbody tr th:only-of-type {\n",
       "        vertical-align: middle;\n",
       "    }\n",
       "\n",
       "    .dataframe tbody tr th {\n",
       "        vertical-align: top;\n",
       "    }\n",
       "\n",
       "    .dataframe thead th {\n",
       "        text-align: right;\n",
       "    }\n",
       "</style>\n",
       "<table border=\"1\" class=\"dataframe\">\n",
       "  <thead>\n",
       "    <tr style=\"text-align: right;\">\n",
       "      <th></th>\n",
       "      <th>długość kielicha (sepal length)</th>\n",
       "      <th>szerokość kielicha (sepal width)</th>\n",
       "      <th>długość płatka (petal length)</th>\n",
       "      <th>szerokość płatka (petal width)</th>\n",
       "    </tr>\n",
       "  </thead>\n",
       "  <tbody>\n",
       "    <tr>\n",
       "      <th>min</th>\n",
       "      <td>4.3</td>\n",
       "      <td>2.3</td>\n",
       "      <td>1.0</td>\n",
       "      <td>0.1</td>\n",
       "    </tr>\n",
       "    <tr>\n",
       "      <th>max</th>\n",
       "      <td>5.8</td>\n",
       "      <td>4.4</td>\n",
       "      <td>1.9</td>\n",
       "      <td>0.6</td>\n",
       "    </tr>\n",
       "  </tbody>\n",
       "</table>\n",
       "</div>"
      ],
      "text/plain": [
       "     długość kielicha (sepal length)  szerokość kielicha (sepal width)  \\\n",
       "min                              4.3                               2.3   \n",
       "max                              5.8                               4.4   \n",
       "\n",
       "     długość płatka (petal length)  szerokość płatka (petal width)  \n",
       "min                            1.0                             0.1  \n",
       "max                            1.9                             0.6  "
      ]
     },
     "execution_count": 296,
     "metadata": {},
     "output_type": "execute_result"
    }
   ],
   "source": [
    "# Informacje o zmiennych dla wartości 'min' / 'max' wg kategorii 'Iris-setosa'\n",
    "Iris_setosa_df[[\"długość kielicha (sepal length)\", \"szerokość kielicha (sepal width)\", \"długość płatka (petal length)\", \"szerokość płatka (petal width)\"]].agg([\"min\", \"max\"])"
   ]
  },
  {
   "cell_type": "code",
   "execution_count": 294,
   "metadata": {},
   "outputs": [
    {
     "data": {
      "text/html": [
       "<div>\n",
       "<style scoped>\n",
       "    .dataframe tbody tr th:only-of-type {\n",
       "        vertical-align: middle;\n",
       "    }\n",
       "\n",
       "    .dataframe tbody tr th {\n",
       "        vertical-align: top;\n",
       "    }\n",
       "\n",
       "    .dataframe thead th {\n",
       "        text-align: right;\n",
       "    }\n",
       "</style>\n",
       "<table border=\"1\" class=\"dataframe\">\n",
       "  <thead>\n",
       "    <tr style=\"text-align: right;\">\n",
       "      <th></th>\n",
       "      <th>długość kielicha (sepal length)</th>\n",
       "      <th>szerokość kielicha (sepal width)</th>\n",
       "    </tr>\n",
       "  </thead>\n",
       "  <tbody>\n",
       "    <tr>\n",
       "      <th>długość kielicha (sepal length)</th>\n",
       "      <td>1.00000</td>\n",
       "      <td>0.74678</td>\n",
       "    </tr>\n",
       "    <tr>\n",
       "      <th>szerokość kielicha (sepal width)</th>\n",
       "      <td>0.74678</td>\n",
       "      <td>1.00000</td>\n",
       "    </tr>\n",
       "  </tbody>\n",
       "</table>\n",
       "</div>"
      ],
      "text/plain": [
       "                                  długość kielicha (sepal length)  \\\n",
       "długość kielicha (sepal length)                           1.00000   \n",
       "szerokość kielicha (sepal width)                          0.74678   \n",
       "\n",
       "                                  szerokość kielicha (sepal width)  \n",
       "długość kielicha (sepal length)                            0.74678  \n",
       "szerokość kielicha (sepal width)                           1.00000  "
      ]
     },
     "execution_count": 294,
     "metadata": {},
     "output_type": "execute_result"
    }
   ],
   "source": [
    "# Informacje o korelacji zmiennych 'długość kielicha (sepal length)', 'szerokość kielicha (sepal width)' wg kategorii 'Iris-setosa'\n",
    "Iris_setosa_df[[\"długość kielicha (sepal length)\", \"szerokość kielicha (sepal width)\"]].corr()"
   ]
  },
  {
   "cell_type": "markdown",
   "metadata": {},
   "source": [
    "**Wnioski cząstkowe dla korelacji parametrów kielicha dla kategorii Iris-setosa'**\n",
    "- Wartość korelacji 0.74678 wskazuje na silną, dodatnią korelację.\n",
    "- Istnieje wyraźny związek między długością a szerokością kielicha. Oznacza to, że te dwie cechy są ze sobą powiązane i prawdopodobnie wynikają z podobnych czynników wzrostu."
   ]
  },
  {
   "cell_type": "code",
   "execution_count": 298,
   "metadata": {},
   "outputs": [
    {
     "data": {
      "text/plain": [
       "<Axes: xlabel='długość płatka (petal length)', ylabel='szerokość płatka (petal width)'>"
      ]
     },
     "execution_count": 298,
     "metadata": {},
     "output_type": "execute_result"
    },
    {
     "data": {
      "image/png": "[encoded data removed]",
      "text/plain": [
       "<Figure size 640x480 with 1 Axes>"
      ]
     },
     "metadata": {},
     "output_type": "display_data"
    }
   ],
   "source": [
    "# Wykres punktowy dla zmiennej 'długość płatka (petal length)' i 'szerokość płatka (petal width)' wg kategorii 'Iris-setosa'\n",
    "Iris_setosa_df.plot(kind=\"scatter\", x=\"długość płatka (petal length)\", y=\"szerokość płatka (petal width)\")"
   ]
  },
  {
   "cell_type": "code",
   "execution_count": 299,
   "metadata": {},
   "outputs": [
    {
     "data": {
      "text/html": [
       "<div>\n",
       "<style scoped>\n",
       "    .dataframe tbody tr th:only-of-type {\n",
       "        vertical-align: middle;\n",
       "    }\n",
       "\n",
       "    .dataframe tbody tr th {\n",
       "        vertical-align: top;\n",
       "    }\n",
       "\n",
       "    .dataframe thead th {\n",
       "        text-align: right;\n",
       "    }\n",
       "</style>\n",
       "<table border=\"1\" class=\"dataframe\">\n",
       "  <thead>\n",
       "    <tr style=\"text-align: right;\">\n",
       "      <th></th>\n",
       "      <th>długość płatka (petal length)</th>\n",
       "      <th>szerokość płatka (petal width)</th>\n",
       "    </tr>\n",
       "  </thead>\n",
       "  <tbody>\n",
       "    <tr>\n",
       "      <th>długość płatka (petal length)</th>\n",
       "      <td>1.000000</td>\n",
       "      <td>0.306308</td>\n",
       "    </tr>\n",
       "    <tr>\n",
       "      <th>szerokość płatka (petal width)</th>\n",
       "      <td>0.306308</td>\n",
       "      <td>1.000000</td>\n",
       "    </tr>\n",
       "  </tbody>\n",
       "</table>\n",
       "</div>"
      ],
      "text/plain": [
       "                                długość płatka (petal length)  \\\n",
       "długość płatka (petal length)                        1.000000   \n",
       "szerokość płatka (petal width)                       0.306308   \n",
       "\n",
       "                                szerokość płatka (petal width)  \n",
       "długość płatka (petal length)                         0.306308  \n",
       "szerokość płatka (petal width)                        1.000000  "
      ]
     },
     "execution_count": 299,
     "metadata": {},
     "output_type": "execute_result"
    }
   ],
   "source": [
    "# Informacje o korelacji zmiennych 'długość płatka (petal length)', 'szerokość płatka (petal width)' wg kategorii 'Iris-setosa'\n",
    "Iris_setosa_df[[\"długość płatka (petal length)\", \"szerokość płatka (petal width)\"]].corr()"
   ]
  },
  {
   "cell_type": "markdown",
   "metadata": {},
   "source": [
    "**Wnioski cząstkowe dla korelacji parametrów płatka dla kategorii Iris-setosa'**\n",
    "- Wartość korelacji 0.306308 wskazuje na słabą, dodatnią korelację.\n",
    "- Mimo że istnieje pewna zależność między długością a szerokością płatka, nie jest ona wystarczająco silna, aby mówić o wyraźnej zależności między tymi cechami."
   ]
  },
  {
   "cell_type": "markdown",
   "metadata": {},
   "source": [
    "### Kategoria 'Iris-versicolor'"
   ]
  },
  {
   "cell_type": "code",
   "execution_count": 306,
   "metadata": {},
   "outputs": [
    {
     "data": {
      "text/plain": [
       "<Axes: xlabel='długość kielicha (sepal length)', ylabel='szerokość kielicha (sepal width)'>"
      ]
     },
     "execution_count": 306,
     "metadata": {},
     "output_type": "execute_result"
    },
    {
     "data": {
      "image/png": "[encoded data removed]",
      "text/plain": [
       "<Figure size 640x480 with 1 Axes>"
      ]
     },
     "metadata": {},
     "output_type": "display_data"
    }
   ],
   "source": [
    "# Wykres punktowy dla zmiennej 'długość kielicha (sepal length)' i 'szerokość kielicha (sepal width)' wg kategorii 'Iris-versicolor'\n",
    "Iris_versicolor_df.plot(kind=\"scatter\", x=\"długość kielicha (sepal length)\", y=\"szerokość kielicha (sepal width)\")"
   ]
  },
  {
   "cell_type": "code",
   "execution_count": 301,
   "metadata": {},
   "outputs": [
    {
     "data": {
      "text/html": [
       "<div>\n",
       "<style scoped>\n",
       "    .dataframe tbody tr th:only-of-type {\n",
       "        vertical-align: middle;\n",
       "    }\n",
       "\n",
       "    .dataframe tbody tr th {\n",
       "        vertical-align: top;\n",
       "    }\n",
       "\n",
       "    .dataframe thead th {\n",
       "        text-align: right;\n",
       "    }\n",
       "</style>\n",
       "<table border=\"1\" class=\"dataframe\">\n",
       "  <thead>\n",
       "    <tr style=\"text-align: right;\">\n",
       "      <th></th>\n",
       "      <th>długość kielicha (sepal length)</th>\n",
       "      <th>szerokość kielicha (sepal width)</th>\n",
       "      <th>długość płatka (petal length)</th>\n",
       "      <th>szerokość płatka (petal width)</th>\n",
       "    </tr>\n",
       "  </thead>\n",
       "  <tbody>\n",
       "    <tr>\n",
       "      <th>min</th>\n",
       "      <td>4.9</td>\n",
       "      <td>2.0</td>\n",
       "      <td>3.0</td>\n",
       "      <td>1.0</td>\n",
       "    </tr>\n",
       "    <tr>\n",
       "      <th>max</th>\n",
       "      <td>7.0</td>\n",
       "      <td>3.4</td>\n",
       "      <td>5.1</td>\n",
       "      <td>1.8</td>\n",
       "    </tr>\n",
       "  </tbody>\n",
       "</table>\n",
       "</div>"
      ],
      "text/plain": [
       "     długość kielicha (sepal length)  szerokość kielicha (sepal width)  \\\n",
       "min                              4.9                               2.0   \n",
       "max                              7.0                               3.4   \n",
       "\n",
       "     długość płatka (petal length)  szerokość płatka (petal width)  \n",
       "min                            3.0                             1.0  \n",
       "max                            5.1                             1.8  "
      ]
     },
     "execution_count": 301,
     "metadata": {},
     "output_type": "execute_result"
    }
   ],
   "source": [
    "# Informacje o zmiennych dla wartości 'min' / 'max' wg kategorii 'Iris-versicolor'\n",
    "Iris_versicolor_df[[\"długość kielicha (sepal length)\", \"szerokość kielicha (sepal width)\", \"długość płatka (petal length)\", \"szerokość płatka (petal width)\"]].agg([\"min\", \"max\"])"
   ]
  },
  {
   "cell_type": "code",
   "execution_count": 302,
   "metadata": {},
   "outputs": [
    {
     "data": {
      "text/html": [
       "<div>\n",
       "<style scoped>\n",
       "    .dataframe tbody tr th:only-of-type {\n",
       "        vertical-align: middle;\n",
       "    }\n",
       "\n",
       "    .dataframe tbody tr th {\n",
       "        vertical-align: top;\n",
       "    }\n",
       "\n",
       "    .dataframe thead th {\n",
       "        text-align: right;\n",
       "    }\n",
       "</style>\n",
       "<table border=\"1\" class=\"dataframe\">\n",
       "  <thead>\n",
       "    <tr style=\"text-align: right;\">\n",
       "      <th></th>\n",
       "      <th>długość kielicha (sepal length)</th>\n",
       "      <th>szerokość kielicha (sepal width)</th>\n",
       "    </tr>\n",
       "  </thead>\n",
       "  <tbody>\n",
       "    <tr>\n",
       "      <th>długość kielicha (sepal length)</th>\n",
       "      <td>1.000000</td>\n",
       "      <td>0.525911</td>\n",
       "    </tr>\n",
       "    <tr>\n",
       "      <th>szerokość kielicha (sepal width)</th>\n",
       "      <td>0.525911</td>\n",
       "      <td>1.000000</td>\n",
       "    </tr>\n",
       "  </tbody>\n",
       "</table>\n",
       "</div>"
      ],
      "text/plain": [
       "                                  długość kielicha (sepal length)  \\\n",
       "długość kielicha (sepal length)                          1.000000   \n",
       "szerokość kielicha (sepal width)                         0.525911   \n",
       "\n",
       "                                  szerokość kielicha (sepal width)  \n",
       "długość kielicha (sepal length)                           0.525911  \n",
       "szerokość kielicha (sepal width)                          1.000000  "
      ]
     },
     "execution_count": 302,
     "metadata": {},
     "output_type": "execute_result"
    }
   ],
   "source": [
    "# Informacje o korelacji zmiennych 'długość kielicha (sepal length)', 'szerokość kielicha (sepal width)' wg kategorii 'Iris-versicolor'\n",
    "Iris_versicolor_df[[\"długość kielicha (sepal length)\", \"szerokość kielicha (sepal width)\"]].corr()"
   ]
  },
  {
   "cell_type": "markdown",
   "metadata": {},
   "source": [
    "**Wnioski cząstkowe dla korelacji parametrów kielicha dla kategorii Iris-versicolor'**\n",
    "- Wartość korelacji 0,525911 wskazuje na umiarkowaną, dodatnią korelację.\n",
    "- Istnieje związek między długością a szerokością kielicha. Oznacza to, że te dwie cechy są ze sobą powiązane i prawdopodobnie wpływają na siebie wzajemnie lub są zależne od wspólnego czynnika, czyli długość kielicha nie jest jedynym czynnikiem determinującym jego szerokość i odwrotnie."
   ]
  },
  {
   "cell_type": "code",
   "execution_count": 303,
   "metadata": {},
   "outputs": [
    {
     "data": {
      "text/plain": [
       "<Axes: xlabel='długość płatka (petal length)', ylabel='szerokość płatka (petal width)'>"
      ]
     },
     "execution_count": 303,
     "metadata": {},
     "output_type": "execute_result"
    },
    {
     "data": {
      "image/png": "[encoded data removed]",
      "text/plain": [
       "<Figure size 640x480 with 1 Axes>"
      ]
     },
     "metadata": {},
     "output_type": "display_data"
    }
   ],
   "source": [
    "# Wykres punktowy dla zmiennej 'długość płatka (petal length)' i 'szerokość płatka (petal width)' wg kategorii 'Iris-versicolor'\n",
    "Iris_versicolor_df.plot(kind=\"scatter\", x=\"długość płatka (petal length)\", y=\"szerokość płatka (petal width)\")"
   ]
  },
  {
   "cell_type": "code",
   "execution_count": 304,
   "metadata": {},
   "outputs": [
    {
     "data": {
      "text/html": [
       "<div>\n",
       "<style scoped>\n",
       "    .dataframe tbody tr th:only-of-type {\n",
       "        vertical-align: middle;\n",
       "    }\n",
       "\n",
       "    .dataframe tbody tr th {\n",
       "        vertical-align: top;\n",
       "    }\n",
       "\n",
       "    .dataframe thead th {\n",
       "        text-align: right;\n",
       "    }\n",
       "</style>\n",
       "<table border=\"1\" class=\"dataframe\">\n",
       "  <thead>\n",
       "    <tr style=\"text-align: right;\">\n",
       "      <th></th>\n",
       "      <th>długość płatka (petal length)</th>\n",
       "      <th>szerokość płatka (petal width)</th>\n",
       "    </tr>\n",
       "  </thead>\n",
       "  <tbody>\n",
       "    <tr>\n",
       "      <th>długość płatka (petal length)</th>\n",
       "      <td>1.000000</td>\n",
       "      <td>0.786668</td>\n",
       "    </tr>\n",
       "    <tr>\n",
       "      <th>szerokość płatka (petal width)</th>\n",
       "      <td>0.786668</td>\n",
       "      <td>1.000000</td>\n",
       "    </tr>\n",
       "  </tbody>\n",
       "</table>\n",
       "</div>"
      ],
      "text/plain": [
       "                                długość płatka (petal length)  \\\n",
       "długość płatka (petal length)                        1.000000   \n",
       "szerokość płatka (petal width)                       0.786668   \n",
       "\n",
       "                                szerokość płatka (petal width)  \n",
       "długość płatka (petal length)                         0.786668  \n",
       "szerokość płatka (petal width)                        1.000000  "
      ]
     },
     "execution_count": 304,
     "metadata": {},
     "output_type": "execute_result"
    }
   ],
   "source": [
    "# Informacje o korelacji zmiennych 'długość płatka (petal length)', 'szerokość płatka (petal width)' wg kategorii 'Iris-versicolor'\n",
    "Iris_versicolor_df[[\"długość płatka (petal length)\", \"szerokość płatka (petal width)\"]].corr()"
   ]
  },
  {
   "cell_type": "markdown",
   "metadata": {},
   "source": [
    "**Wnioski cząstkowe dla korelacji parametrów płatka dla kategorii 'Iris-versicolor'**\n",
    "- Wartość korelacji 0.786668 wskazuje na silną, dodatnią korelację.\n",
    "- Oznacza to, że im dłuższy jest płatek, tym szerszy jest on z dużym prawdopodobieństwem. Innymi słowy, długość i szerokość płatka są ze sobą ściśle powiązane."
   ]
  },
  {
   "cell_type": "markdown",
   "metadata": {},
   "source": [
    "### Kategoria 'Iris-virginica'"
   ]
  },
  {
   "cell_type": "code",
   "execution_count": 305,
   "metadata": {},
   "outputs": [
    {
     "data": {
      "text/plain": [
       "<Axes: xlabel='długość kielicha (sepal length)', ylabel='szerokość kielicha (sepal width)'>"
      ]
     },
     "execution_count": 305,
     "metadata": {},
     "output_type": "execute_result"
    },
    {
     "data": {
      "image/png": "[encoded data removed]",
      "text/plain": [
       "<Figure size 640x480 with 1 Axes>"
      ]
     },
     "metadata": {},
     "output_type": "display_data"
    }
   ],
   "source": [
    "# Wykres punktowy dla zmiennej 'długość kielicha (sepal length)' i 'szerokość kielicha (sepal width)' wg kategorii 'Iris-virginica'\n",
    "Iris_virginica_df.plot(kind=\"scatter\", x=\"długość kielicha (sepal length)\", y=\"szerokość kielicha (sepal width)\")"
   ]
  },
  {
   "cell_type": "code",
   "execution_count": 307,
   "metadata": {},
   "outputs": [
    {
     "data": {
      "text/html": [
       "<div>\n",
       "<style scoped>\n",
       "    .dataframe tbody tr th:only-of-type {\n",
       "        vertical-align: middle;\n",
       "    }\n",
       "\n",
       "    .dataframe tbody tr th {\n",
       "        vertical-align: top;\n",
       "    }\n",
       "\n",
       "    .dataframe thead th {\n",
       "        text-align: right;\n",
       "    }\n",
       "</style>\n",
       "<table border=\"1\" class=\"dataframe\">\n",
       "  <thead>\n",
       "    <tr style=\"text-align: right;\">\n",
       "      <th></th>\n",
       "      <th>długość kielicha (sepal length)</th>\n",
       "      <th>szerokość kielicha (sepal width)</th>\n",
       "      <th>długość płatka (petal length)</th>\n",
       "      <th>szerokość płatka (petal width)</th>\n",
       "    </tr>\n",
       "  </thead>\n",
       "  <tbody>\n",
       "    <tr>\n",
       "      <th>min</th>\n",
       "      <td>4.9</td>\n",
       "      <td>2.2</td>\n",
       "      <td>4.5</td>\n",
       "      <td>1.4</td>\n",
       "    </tr>\n",
       "    <tr>\n",
       "      <th>max</th>\n",
       "      <td>7.9</td>\n",
       "      <td>3.8</td>\n",
       "      <td>6.9</td>\n",
       "      <td>2.5</td>\n",
       "    </tr>\n",
       "  </tbody>\n",
       "</table>\n",
       "</div>"
      ],
      "text/plain": [
       "     długość kielicha (sepal length)  szerokość kielicha (sepal width)  \\\n",
       "min                              4.9                               2.2   \n",
       "max                              7.9                               3.8   \n",
       "\n",
       "     długość płatka (petal length)  szerokość płatka (petal width)  \n",
       "min                            4.5                             1.4  \n",
       "max                            6.9                             2.5  "
      ]
     },
     "execution_count": 307,
     "metadata": {},
     "output_type": "execute_result"
    }
   ],
   "source": [
    "# Informacje o zmiennych dla wartości 'min' / 'max' wg kategorii 'Iris-verginica'\n",
    "Iris_virginica_df[[\"długość kielicha (sepal length)\", \"szerokość kielicha (sepal width)\", \"długość płatka (petal length)\", \"szerokość płatka (petal width)\"]].agg([\"min\", \"max\"])"
   ]
  },
  {
   "cell_type": "code",
   "execution_count": 308,
   "metadata": {},
   "outputs": [
    {
     "data": {
      "text/html": [
       "<div>\n",
       "<style scoped>\n",
       "    .dataframe tbody tr th:only-of-type {\n",
       "        vertical-align: middle;\n",
       "    }\n",
       "\n",
       "    .dataframe tbody tr th {\n",
       "        vertical-align: top;\n",
       "    }\n",
       "\n",
       "    .dataframe thead th {\n",
       "        text-align: right;\n",
       "    }\n",
       "</style>\n",
       "<table border=\"1\" class=\"dataframe\">\n",
       "  <thead>\n",
       "    <tr style=\"text-align: right;\">\n",
       "      <th></th>\n",
       "      <th>długość kielicha (sepal length)</th>\n",
       "      <th>szerokość kielicha (sepal width)</th>\n",
       "    </tr>\n",
       "  </thead>\n",
       "  <tbody>\n",
       "    <tr>\n",
       "      <th>długość kielicha (sepal length)</th>\n",
       "      <td>1.000000</td>\n",
       "      <td>0.457228</td>\n",
       "    </tr>\n",
       "    <tr>\n",
       "      <th>szerokość kielicha (sepal width)</th>\n",
       "      <td>0.457228</td>\n",
       "      <td>1.000000</td>\n",
       "    </tr>\n",
       "  </tbody>\n",
       "</table>\n",
       "</div>"
      ],
      "text/plain": [
       "                                  długość kielicha (sepal length)  \\\n",
       "długość kielicha (sepal length)                          1.000000   \n",
       "szerokość kielicha (sepal width)                         0.457228   \n",
       "\n",
       "                                  szerokość kielicha (sepal width)  \n",
       "długość kielicha (sepal length)                           0.457228  \n",
       "szerokość kielicha (sepal width)                          1.000000  "
      ]
     },
     "execution_count": 308,
     "metadata": {},
     "output_type": "execute_result"
    }
   ],
   "source": [
    "# Informacje o korelacji zmiennych 'długość kielicha (sepal length)', 'szerokość kielicha (sepal width)' wg kategorii 'Iris-virginica'\n",
    "Iris_virginica_df[[\"długość kielicha (sepal length)\", \"szerokość kielicha (sepal width)\"]].corr()"
   ]
  },
  {
   "cell_type": "markdown",
   "metadata": {},
   "source": [
    "**Wnioski cząstkowe dla korelacji parametrów kielicha dla kategorii Iris-virginica'**\n",
    "- Wartość korelacji 0.457228 wskazuje na umiarkowaną, dodatnią korelację.\n",
    "- Oznacza to, że wraz ze wzrostem długości kielicha, średnio wzrasta również jego szerokość."
   ]
  },
  {
   "cell_type": "code",
   "execution_count": 309,
   "metadata": {},
   "outputs": [
    {
     "data": {
      "text/plain": [
       "<Axes: xlabel='długość płatka (petal length)', ylabel='szerokość płatka (petal width)'>"
      ]
     },
     "execution_count": 309,
     "metadata": {},
     "output_type": "execute_result"
    },
    {
     "data": {
      "image/png": "[encoded data removed]",
      "text/plain": [
       "<Figure size 640x480 with 1 Axes>"
      ]
     },
     "metadata": {},
     "output_type": "display_data"
    }
   ],
   "source": [
    "# Wykres punktowy dla zmiennej 'długość płatka (petal length)' i 'szerokość płatka (petal width)' wg kategorii 'Iris-virginica'\n",
    "Iris_virginica_df.plot(kind=\"scatter\", x=\"długość płatka (petal length)\", y=\"szerokość płatka (petal width)\")"
   ]
  },
  {
   "cell_type": "code",
   "execution_count": 310,
   "metadata": {},
   "outputs": [
    {
     "data": {
      "text/html": [
       "<div>\n",
       "<style scoped>\n",
       "    .dataframe tbody tr th:only-of-type {\n",
       "        vertical-align: middle;\n",
       "    }\n",
       "\n",
       "    .dataframe tbody tr th {\n",
       "        vertical-align: top;\n",
       "    }\n",
       "\n",
       "    .dataframe thead th {\n",
       "        text-align: right;\n",
       "    }\n",
       "</style>\n",
       "<table border=\"1\" class=\"dataframe\">\n",
       "  <thead>\n",
       "    <tr style=\"text-align: right;\">\n",
       "      <th></th>\n",
       "      <th>długość płatka (petal length)</th>\n",
       "      <th>szerokość płatka (petal width)</th>\n",
       "    </tr>\n",
       "  </thead>\n",
       "  <tbody>\n",
       "    <tr>\n",
       "      <th>długość płatka (petal length)</th>\n",
       "      <td>1.000000</td>\n",
       "      <td>0.322108</td>\n",
       "    </tr>\n",
       "    <tr>\n",
       "      <th>szerokość płatka (petal width)</th>\n",
       "      <td>0.322108</td>\n",
       "      <td>1.000000</td>\n",
       "    </tr>\n",
       "  </tbody>\n",
       "</table>\n",
       "</div>"
      ],
      "text/plain": [
       "                                długość płatka (petal length)  \\\n",
       "długość płatka (petal length)                        1.000000   \n",
       "szerokość płatka (petal width)                       0.322108   \n",
       "\n",
       "                                szerokość płatka (petal width)  \n",
       "długość płatka (petal length)                         0.322108  \n",
       "szerokość płatka (petal width)                        1.000000  "
      ]
     },
     "execution_count": 310,
     "metadata": {},
     "output_type": "execute_result"
    }
   ],
   "source": [
    "# Informacje o korelacji zmiennych 'długość płatka (petal length)', 'szerokość płatka (petal width)' wg kategorii 'Iris-virginica'\n",
    "Iris_virginica_df[[\"długość płatka (petal length)\", \"szerokość płatka (petal width)\"]].corr()"
   ]
  },
  {
   "cell_type": "markdown",
   "metadata": {},
   "source": [
    "**Wnioski cząstkowe dla korelacji parametrów płatka dla kategorii 'Iris-versicolor'**\n",
    "- Wartość korelacji 0.322108 wskazuje na słabą, dodatnią korelację.\n",
    "- Oznacza to, że choć istnieje ogólna tendencja do zwiększania się szerokości wraz z długością płatka, to wiele płatków nie będzie dokładnie odpowiadało tej tendencji."
   ]
  },
  {
   "cell_type": "markdown",
   "metadata": {},
   "source": [
    "**Wnioski z analizy danych wg kategorii**\n",
    "- 'Iris-setosa': Istnieje wyraźny związek między długością a szerokością kielicha. Oznacza to, że te dwie cechy są ze sobą powiązane i prawdopodobnie wynikają z podobnych czynników wzrostu. Mimo że istnieje pewna zależność między długością a szerokością płatka, nie jest ona wystarczająco silna, aby mówić o wyraźnej zależności między tymi cechami.\n",
    "- 'Iris-versicolor': Istnieje związek między długością a szerokością kielicha. Oznacza to, że te dwie cechy są ze sobą powiązane i prawdopodobnie wpływają na siebie wzajemnie lub są zależne od wspólnego czynnika, czyli długość kielicha nie jest jedynym czynnikiem determinującym jego szerokość i odwrotnie. Długość i szerokość płatka są ze sobą ściśle powiązane.\n",
    "- 'Iris-virginica': Istnieje związek między długością a szerokością kielicha. Oznacza to, że ze wzrostem długości kielicha, średnio wzrasta również jego szerokość. Istnieje ogólna tendencja do zwiększania się szerokości wraz z długością płatka, lecz wiele płatków nie będzie dokładnie odpowiadało tej tendencji."
   ]
  },
  {
   "cell_type": "markdown",
   "metadata": {},
   "source": [
    "# **Analiza wartości odstających**"
   ]
  },
  {
   "cell_type": "markdown",
   "metadata": {},
   "source": [
    "## Analiza serii danych"
   ]
  },
  {
   "cell_type": "code",
   "execution_count": 330,
   "metadata": {},
   "outputs": [
    {
     "data": {
      "text/plain": [
       "<Axes: >"
      ]
     },
     "execution_count": 330,
     "metadata": {},
     "output_type": "execute_result"
    },
    {
     "data": {
      "image/png": "[encoded data removed]",
      "text/plain": [
       "<Figure size 640x480 with 1 Axes>"
      ]
     },
     "metadata": {},
     "output_type": "display_data"
    }
   ],
   "source": [
    "# Wykres pudełkowy dla zmiennych 'długość kielicha (sepal length) i 'szerokość kielicha (sepal width)'\n",
    "df[[\"długość kielicha (sepal length)\", \"szerokość kielicha (sepal width)\"]].plot(kind=\"box\")"
   ]
  },
  {
   "cell_type": "markdown",
   "metadata": {},
   "source": [
    "**Wnioski do wykresu pudełkowego zmiennych 'długość kielicha (sepal length)' i 'szerokość kielicha (sepal width)'**\n",
    "- dla zmiennej 'długość kielicha (sepal length)' brak wartości odstających\n",
    "- dla zmiennej 'szerokość kielicha (sepal width)' występują wartości odstające"
   ]
  },
  {
   "cell_type": "code",
   "execution_count": 331,
   "metadata": {},
   "outputs": [
    {
     "data": {
      "text/plain": [
       "<Axes: >"
      ]
     },
     "execution_count": 331,
     "metadata": {},
     "output_type": "execute_result"
    },
    {
     "data": {
      "image/png": "[encoded data removed]",
      "text/plain": [
       "<Figure size 640x480 with 1 Axes>"
      ]
     },
     "metadata": {},
     "output_type": "display_data"
    }
   ],
   "source": [
    "# Wykres pudełkowy dla zmiennych 'długość płatka (petal length)' i 'szerokość płatka (petal width)'\n",
    "df[[\"długość płatka (petal length)\", \"szerokość płatka (petal width)\"]].plot(kind=\"box\")"
   ]
  },
  {
   "cell_type": "markdown",
   "metadata": {},
   "source": [
    "**Wnioski do wykresu pudełkowego zmiennych 'długość płatka (petal length)' i 'szerokość płatka (petal width)'**\n",
    "- dla zmiennej 'długość płatka (petal length)' brak wartości odstających\n",
    "- dla zmiennej 'szerokość płatka (petal width)' brak wartości odstających"
   ]
  },
  {
   "cell_type": "markdown",
   "metadata": {},
   "source": [
    "## Analiza danych wg kategorii"
   ]
  },
  {
   "cell_type": "markdown",
   "metadata": {},
   "source": [
    "### Kategoria 'Iris-setosa'"
   ]
  },
  {
   "cell_type": "code",
   "execution_count": 323,
   "metadata": {},
   "outputs": [
    {
     "data": {
      "text/plain": [
       "<Axes: >"
      ]
     },
     "execution_count": 323,
     "metadata": {},
     "output_type": "execute_result"
    },
    {
     "data": {
      "image/png": "[encoded data removed]",
      "text/plain": [
       "<Figure size 640x480 with 1 Axes>"
      ]
     },
     "metadata": {},
     "output_type": "display_data"
    }
   ],
   "source": [
    "# Wykres pudełkowy dla zmiennych 'długość kielicha (sepal length)' i 'szerokość kielicha (sepal width)' wg kategorii 'Iris-setosa'\n",
    "Iris_setosa_df[[\"długość kielicha (sepal length)\", \"szerokość kielicha (sepal width)\"]].plot(kind=\"box\")"
   ]
  },
  {
   "cell_type": "markdown",
   "metadata": {},
   "source": [
    "**Wnioski do wykresu pudełkowego zmiennych 'długość kielicha (sepal length)' i 'szerokość kielicha (sepal width)' wg kategorii 'Iris-setosa'**\n",
    "- dla zmiennej 'długość kielicha (sepal length)' brak wartości odstających\n",
    "- dla zmiennej 'szerokość kielicha (sepal width)' brak wartości odstających"
   ]
  },
  {
   "cell_type": "code",
   "execution_count": 324,
   "metadata": {},
   "outputs": [
    {
     "data": {
      "text/plain": [
       "<Axes: >"
      ]
     },
     "execution_count": 324,
     "metadata": {},
     "output_type": "execute_result"
    },
    {
     "data": {
      "image/png": "[encoded data removed]",
      "text/plain": [
       "<Figure size 640x480 with 1 Axes>"
      ]
     },
     "metadata": {},
     "output_type": "display_data"
    }
   ],
   "source": [
    "# Wykres pudełkowy dla zmiennych 'długość płatka (petal length)' i 'szerokość płatka (petal width)' wg kategorii 'Iris-setosa'\n",
    "Iris_setosa_df[[\"długość płatka (petal length)\", \"szerokość płatka (petal width)\"]].plot(kind=\"box\")"
   ]
  },
  {
   "cell_type": "markdown",
   "metadata": {},
   "source": [
    "**Wnioski do wykresu pudełkowego zmiennych 'długość płatka (petal length)' i 'szerokość płatka (petal width)' wg kategorii 'Iris-setosa'**\n",
    "- dla zmiennej 'długość płatka (petal length)' występują wartości odstające\n",
    "- dla zmiennej 'szerokość płatka (petal width)' występują wartości odstające"
   ]
  },
  {
   "cell_type": "markdown",
   "metadata": {},
   "source": [
    "### Kategoria 'Iris-versicolor'"
   ]
  },
  {
   "cell_type": "code",
   "execution_count": 327,
   "metadata": {},
   "outputs": [
    {
     "data": {
      "text/plain": [
       "<Axes: >"
      ]
     },
     "execution_count": 327,
     "metadata": {},
     "output_type": "execute_result"
    },
    {
     "data": {
      "image/png": "[encoded data removed]",
      "text/plain": [
       "<Figure size 640x480 with 1 Axes>"
      ]
     },
     "metadata": {},
     "output_type": "display_data"
    }
   ],
   "source": [
    "# Wykres pudełkowy dla zmiennych 'długość kielicha (sepal length)' i 'szerokość kielicha (sepal width)' wg kategorii 'Iris-versicolor'\n",
    "Iris_versicolor_df[[\"długość kielicha (sepal length)\", \"szerokość kielicha (sepal width)\"]].plot(kind=\"box\")"
   ]
  },
  {
   "cell_type": "markdown",
   "metadata": {},
   "source": [
    "**Wnioski do wykresu pudełkowego zmiennych 'długość kielicha (sepal length)' i 'szerokość kielicha (sepal width)' wg kategorii 'Iris-versicolor'**\n",
    "- dla zmiennej 'długość kielicha (sepal length)' brak wartości odstających\n",
    "- dla zmiennej 'szerokość kielicha (sepal width)' brak wartości odstających"
   ]
  },
  {
   "cell_type": "code",
   "execution_count": 326,
   "metadata": {},
   "outputs": [
    {
     "data": {
      "text/plain": [
       "<Axes: >"
      ]
     },
     "execution_count": 326,
     "metadata": {},
     "output_type": "execute_result"
    },
    {
     "data": {
      "image/png": "[encoded data removed]",
      "text/plain": [
       "<Figure size 640x480 with 1 Axes>"
      ]
     },
     "metadata": {},
     "output_type": "display_data"
    }
   ],
   "source": [
    "# Wykres pudełkowy dla zmiennych 'długość płatka (petal length)' i 'szerokość płatka (petal width)' wg kategorii 'Iris-versicolor'\n",
    "Iris_versicolor_df[[\"długość płatka (petal length)\", \"szerokość płatka (petal width)\"]].plot(kind=\"box\")"
   ]
  },
  {
   "cell_type": "markdown",
   "metadata": {},
   "source": [
    "**Wnioski do wykresu pudełkowego zmiennych 'długość płatka (petal length)' i 'szerokość płatka (petal width)' wg kategorii 'Iris-versicolor'**\n",
    "- dla zmiennej 'długość płatka (petal length)' występują wartości odstające\n",
    "- dla zmiennej 'szerokość płatka (petal width)' brak wartości odstających"
   ]
  },
  {
   "cell_type": "markdown",
   "metadata": {},
   "source": [
    "### Kategoria 'Iris-virginica'"
   ]
  },
  {
   "cell_type": "code",
   "execution_count": 328,
   "metadata": {},
   "outputs": [
    {
     "data": {
      "text/plain": [
       "<Axes: >"
      ]
     },
     "execution_count": 328,
     "metadata": {},
     "output_type": "execute_result"
    },
    {
     "data": {
      "image/png": "[encoded data removed]",
      "text/plain": [
       "<Figure size 640x480 with 1 Axes>"
      ]
     },
     "metadata": {},
     "output_type": "display_data"
    }
   ],
   "source": [
    "# Wykres pudełkowy dla zmiennych 'długość kielicha (sepal length)' i 'szerokość kielicha (sepal width)' wg kategorii 'Iris-virginica'\n",
    "Iris_virginica_df[[\"długość kielicha (sepal length)\", \"szerokość kielicha (sepal width)\"]].plot(kind=\"box\")"
   ]
  },
  {
   "cell_type": "markdown",
   "metadata": {},
   "source": [
    "**Wnioski do wykresu pudełkowego zmiennych 'długość kielicha (sepal length)' i 'szerokość kielicha (sepal width)' wg kategorii 'Iris-virginica'**\n",
    "- dla zmiennej 'długość kielicha (sepal length)' występują wartości odstające\n",
    "- dla zmiennej 'szerokość kielicha (sepal width)' występują wartości odstające"
   ]
  },
  {
   "cell_type": "code",
   "execution_count": 329,
   "metadata": {},
   "outputs": [
    {
     "data": {
      "text/plain": [
       "<Axes: >"
      ]
     },
     "execution_count": 329,
     "metadata": {},
     "output_type": "execute_result"
    },
    {
     "data": {
      "image/png": "[encoded data removed]",
      "text/plain": [
       "<Figure size 640x480 with 1 Axes>"
      ]
     },
     "metadata": {},
     "output_type": "display_data"
    }
   ],
   "source": [
    "# Wykres pudełkowy dla zmiennych 'długość płatka (petal length)' i 'szerokość płatka (petal width)' wg kategorii 'Iris-virginica'\n",
    "Iris_virginica_df[[\"długość płatka (petal length)\", \"szerokość płatka (petal width)\"]].plot(kind=\"box\")"
   ]
  },
  {
   "cell_type": "markdown",
   "metadata": {},
   "source": [
    "**Wnioski do wykresu pudełkowego zmiennych 'długość płatka (petal length)' i 'szerokość płatka (petal width)' wg kategorii 'Iris-virginica'**\n",
    "- dla zmiennej 'długość płatka (petal length)' brak wartości odstających\n",
    "- dla zmiennej 'szerokość płatka (petal width)' brak wartości odstających"
   ]
  },
  {
   "cell_type": "markdown",
   "metadata": {},
   "source": [
    "# **Podsumowanie**"
   ]
  },
  {
   "cell_type": "markdown",
   "metadata": {},
   "source": [
    "Wg przeprowadzonej analizy na podstawie danych 'długość płatka' i 'szerokość płatka' jest możliwe dokonanie poprawnej klasyfikacji jednej kategorii, tj. 'Iris-setosa'. Dodatkowa kategoria 'Iris-setosa' cechuje się najmniejszym zakresem wartości dla zmiennych 'długość kielicha (sepal length)', 'długość płatka (petal length)' i 'szerokość płatka (petal width)' oraz istnieniem wyraźnego związku między długością a szerokością kielicha. Natomiast klasyfikacja pozostałych kategorii zastosowaną metodologią analizy danych jest niemożliwe do dokonania z racji na fakt, iż dane w kategorii 'Iris-versicolor' i 'Iris-virginica' dla zmiennych znajdują się we wspólnym zbiorze danych bez wyraźnych cech, które mogłyby stanowić jednoznaczne różnice pomiędzy nimi."
   ]
  }
 ],
 "metadata": {
  "kernelspec": {
   "display_name": "Python 3 (ipykernel)",
   "language": "python",
   "name": "python3"
  },
  "language_info": {
   "codemirror_mode": {
    "name": "ipython",
    "version": 3
   },
   "file_extension": ".py",
   "mimetype": "text/x-python",
   "name": "python",
   "nbconvert_exporter": "python",
   "pygments_lexer": "ipython3",
   "version": "3.9.21"
  }
 },
 "nbformat": 4,
 "nbformat_minor": 4
}
